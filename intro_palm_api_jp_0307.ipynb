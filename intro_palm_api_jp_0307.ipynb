{
  "cells": [
    {
      "cell_type": "code",
      "execution_count": null,
      "metadata": {
        "id": "ijGzTHJJUCPY"
      },
      "outputs": [],
      "source": [
        "# Copyright 2023 Google LLC\n",
        "#\n",
        "# Licensed under the Apache License, Version 2.0 (the \"License\");\n",
        "# you may not use this file except in compliance with the License.\n",
        "# You may obtain a copy of the License at\n",
        "#\n",
        "#     https://www.apache.org/licenses/LICENSE-2.0\n",
        "#\n",
        "# Unless required by applicable law or agreed to in writing, software\n",
        "# distributed under the License is distributed on an \"AS IS\" BASIS,\n",
        "# WITHOUT WARRANTIES OR CONDITIONS OF ANY KIND, either express or implied.\n",
        "# See the License for the specific language governing permissions and\n",
        "# limitations under the License."
      ]
    },
    {
      "cell_type": "markdown",
      "metadata": {
        "id": "VEqbX8OhE8y9"
      },
      "source": [
        "# Getting Started with the Vertex AI PaLM API & Python SDK\n",
        "\n",
        "<table align=\"left\">\n",
        "  <td style=\"text-align: center\">\n",
        "    <a href=\"https://colab.research.google.com/github/GoogleCloudPlatform/generative-ai/blob/main/language/intro_palm_api.ipynb\">\n",
        "      <img src=\"https://cloud.google.com/ml-engine/images/colab-logo-32px.png\" alt=\"Google Colaboratory logo\"><br> Run in Colab\n",
        "    </a>\n",
        "  </td>\n",
        "  <td style=\"text-align: center\">\n",
        "    <a href=\"https://github.com/GoogleCloudPlatform/generative-ai/blob/main/language/intro_palm_api.ipynb\">\n",
        "      <img src=\"https://cloud.google.com/ml-engine/images/github-logo-32px.png\" alt=\"GitHub logo\"><br> View on GitHub\n",
        "    </a>\n",
        "  </td>\n",
        "  <td style=\"text-align: center\">\n",
        "    <a href=\"https://console.cloud.google.com/vertex-ai/workbench/deploy-notebook?download_url=https://raw.githubusercontent.com/GoogleCloudPlatform/generative-ai/blob/main/language/intro_palm_api.ipynb\">\n",
        "      <img src=\"https://lh3.googleusercontent.com/UiNooY4LUgW_oTvpsNhPpQzsstV5W8F7rYgxgGBD85cWJoLmrOzhVs_ksK_vgx40SHs7jCqkTkCk=e14-rj-sc0xffffff-h130-w32\" alt=\"Vertex AI logo\"><br> Open in Vertex AI Workbench\n",
        "    </a>\n",
        "  </td>\n",
        "</table>\n"
      ]
    },
    {
      "cell_type": "markdown",
      "metadata": {
        "id": "VK1Q5ZYdVL4Y"
      },
      "source": [
        "## 概要\n",
        "\n",
        "### LLM とは何ですか?\n",
        "大規模言語モデル (LLM) は、大量のテキスト データセットでトレーニングされた深層学習モデルです。 LLM は、言語の翻訳、テキストの要約、クリエイティブな文章の生成、コードの生成、チャットボットや仮想アシスタントの強化、検索エンジンや推奨システムの補完を行うことができます。\n",
        "\n",
        "### PaLM\n",
        " [PaLM](https://ai.googleblog.com/2022/04/pathways- language-model-palm-scaling-to.html) に続き、[PaLM 2](https://ai.google/ Discover/palm2) は、機械学習と責任ある AI における画期的な研究という Google の遺産に基づいて構築された、Google の次世代の大規模言語モデルです。 PaLM 2 は、その構築方法により、高度な推論、翻訳、コード生成などのタスクに優れています。\n",
        "\n",
        "コードと数学、分類と質問応答、翻訳と多言語能力、自然言語生成などの高度な推論タスクで、以前よりも優れています。 PaLM を含む最先端の LLM。 これらのタスクを達成できるのは、コンピューティングに最適なスケーリング、改善されたデータセットの混合、およびモデル アーキテクチャの改善を組み合わせた構築方法のおかげです。\n",
        "\n",
        "PaLM 2 は、責任を持って AI を構築および導入するための Google のアプローチに基づいています。 研究および製品内アプリケーションにおける潜在的な危害とバイアス、機能、および下流での使用に関して厳密に評価されました。 これは、Med-PaLM 2 や Sec-PaLM などの他の最先端モデルでも使用されており、Bard や PaLM API など、Google の生成 AI 機能やツールを強化しています。\n",
        "\n",
        "PaLM は、特定のタスクを行わずに、教師なし学習アプローチを使用して、広範囲のテキスト データに対して事前トレーニングされます。 この事前トレーニング プロセス中に、PaLM は、前の単語を考慮して、文内の次の単語を予測する方法を学習します。 これにより、モデルは人間の文章に似た一貫性のある流暢なテキストを生成できます。\n",
        "この大きなサイズにより、言語の複雑なパターンと関係を学習し、さまざまなアプリケーション向けに高品質のテキストを生成できます。 これが、PaLM のようなモデルが「基礎モデル」と呼ばれる理由です。\n",
        "\n",
        "LLM の作成には、大量のデータ、大量のコンピューティング リソース、および専門的なスキルが必要です。 LLM の作成には多額の投資が必要なため、特定のユースケースではなく広範なユースケースを対象としています。 Vertex AI では、プロンプト設計とモデル調整を使用して、より具体的なタスクや知識ドメインに合わせて基盤モデルをカスタマイズできます。\n",
        "\n",
        "### Vertex AI PaLM API の使用\n",
        "\n",
        "次の方法を使用して Vertex AI PaLM API を操作できます。\n",
        "\n",
        "* 迅速なテストとコマンド生成には、[Generative AI Studio](https://cloud.google.com/generative-ai-studio) を使用します。\n",
        "* Cloud Shell で cURL コマンドを使用します。\n",
        "* Jupyter ノートブックで Python SDK を使用する\n",
        "\n",
        "このノートブックは、Python SDK を使用して Vertex AI PaLM API を呼び出すことに焦点を当てています。 コードを記述せずに Generative AI Studio を使用する方法の詳細については、[UI の開始手順](https://github.com/GoogleCloudPlatform/generative-ai/blob/main/ language/intro_generative_ai_studio.md) を参照してください。\n",
        "\n",
        "\n",
        "詳細については、[Vertex AI の生成 AI サポートに関するドキュメント](https://cloud.google.com/vertex-ai/docs/generative-ai/learn/overview) をご覧ください。"
      ]
    },
    {
      "cell_type": "markdown",
      "metadata": {
        "id": "RQT500QqVPIb"
      },
      "source": [
        "### 目的\n",
        "\n",
        "このチュートリアルでは、Python SDK で PaLM API を使用する方法を学び、そのさまざまなパラメーターを調べます。\n",
        "\n",
        "このノートブックを最後まで読み終えると、「temperature」、「top_k」、「top_p」などの生成モデル パラメーターのさまざまなニュアンスと、各パラメーターが結果にどのように影響するかを理解できるようになります。\n",
        "\n",
        "実行される手順は次のとおりです。\n",
        "\n",
        "- Python SDKのインストール\n",
        "- Vertex AI PaLM API の使用\n",
        "   - `text-bison@001`によるテキスト生成モデル\n",
        "     - モデルパラメータの理解 (「temperature」、「max_output_token」、「top_k」、「top_p」)\n",
        "   - `chat-bison@001`とのチャットモデル\n",
        "   - `textembedding-gecko@001` による埋め込みモデル"
      ]
    },
    {
      "cell_type": "markdown",
      "metadata": {
        "id": "1y6_3dTwV2fI"
      },
      "source": [
        "### コスト\n",
        "このチュートリアルでは、Google Cloud の課金対象コンポーネントを使用します。\n",
        "\n",
        "* Vertex AI ジェネレーティブ AI スタジオ\n",
        "\n",
        "[Vertex AI の料金設定](https://cloud.google.com/vertex-ai/pricing) について確認してください。\n",
        "[料金計算ツール](https://cloud.google.com/products/calculator/) を使用してください。\n",
        "予測される使用量に基づいてコストの見積もりを生成します。"
      ]
    },
    {
      "cell_type": "markdown",
      "metadata": {
        "id": "fc389a25bf64"
      },
      "source": [
        "### 責任ある AI\n",
        "大規模言語モデル (LLM) は、言語の翻訳、テキストの要約、クリエイティブな文章の生成、コードの生成、チャットボットや仮想アシスタントの強化、検索エンジンや推奨システムの補完を行うことができます。 同時に、初期段階のテクノロジーとして、その進化する機能と使用法により、誤用、誤用、および意図しないまたは予期しない結果が生じる可能性が生じます。 大規模な言語モデルでは、不快なテキスト、無神経なテキスト、事実に反するテキストなど、予期しない出力が生成される可能性があります。\n",
        "\n",
        "さらに、LLM の驚くべき多用途性により、LLM がどのような種類の意図しない、または予期しない出力を生成するかを正確に予測することが困難になります。 これらのリスクと複雑さを考慮して、PaLM API は [Google の AI 原則](https://ai.google/principles/) を念頭に置いて設計されています。 ただし、開発者がモデルを理解してテストし、安全かつ責任を持ってデプロイすることが重要です。 開発者を支援するために、Generative AI Studio にはコンテンツ フィルタリングが組み込まれており、PaLM API には安全属性スコアリングがあり、顧客が Google の安全フィルタをテストし、ユースケースやビジネスに適した信頼しきい値を定義できるようにします。 詳細については、[安全フィルターと属性](https://cloud.google.com/vertex-ai/docs/generative-ai/learn/responsible-ai#safety_filters_and_attributes) セクションを参照してください。\n",
        "\n",
        "PaLM API がお客様固有のユースケースとコンテキストに統合される場合、追加の責任ある AI の考慮事項と [PaLM の制限事項](https://cloud.google.com/vertex-ai/docs/generative-ai/learn/responsible-ai) #palm_limitations) を考慮する必要がある場合があります。 当社では、お客様に対し、公平性、解釈可能性、プライバシー、セキュリティを活用することを推奨しています [推奨慣行](https://ai.google/payments/responsible-ai-practices/)。"
      ]
    },
    {
      "cell_type": "markdown",
      "metadata": {
        "id": "QDU0XJ1xRDlL"
      },
      "source": [
        "## Getting Started"
      ]
    },
    {
      "cell_type": "markdown",
      "metadata": {
        "id": "N5afkyDMSBW5"
      },
      "source": [
        "### Install Vertex AI SDK"
      ]
    },
    {
      "cell_type": "code",
      "execution_count": 1,
      "metadata": {
        "id": "kc4WxYmLSBW5",
        "tags": [],
        "colab": {
          "base_uri": "https://localhost:8080/"
        },
        "executionInfo": {
          "status": "ok",
          "timestamp": 1709076915282,
          "user_tz": -540,
          "elapsed": 8961,
          "user": {
            "displayName": "",
            "userId": ""
          }
        },
        "outputId": "489d73aa-becd-4dc9-be74-9fea3e8f1679"
      },
      "outputs": [
        {
          "output_type": "stream",
          "name": "stdout",
          "text": [
            "Requirement already satisfied: google-cloud-aiplatform in /root/.local/lib/python3.10/site-packages (1.42.1)\n",
            "Requirement already satisfied: google-api-core[grpc]!=2.0.*,!=2.1.*,!=2.2.*,!=2.3.*,!=2.4.*,!=2.5.*,!=2.6.*,!=2.7.*,<3.0.0dev,>=1.34.1 in /usr/local/lib/python3.10/dist-packages (from google-cloud-aiplatform) (2.11.1)\n",
            "Requirement already satisfied: google-auth<3.0.0dev,>=2.14.1 in /usr/local/lib/python3.10/dist-packages (from google-cloud-aiplatform) (2.27.0)\n",
            "Requirement already satisfied: proto-plus<2.0.0dev,>=1.22.0 in /usr/local/lib/python3.10/dist-packages (from google-cloud-aiplatform) (1.23.0)\n",
            "Requirement already satisfied: protobuf!=3.20.0,!=3.20.1,!=4.21.0,!=4.21.1,!=4.21.2,!=4.21.3,!=4.21.4,!=4.21.5,<5.0.0dev,>=3.19.5 in /usr/local/lib/python3.10/dist-packages (from google-cloud-aiplatform) (3.20.3)\n",
            "Requirement already satisfied: packaging>=14.3 in /usr/local/lib/python3.10/dist-packages (from google-cloud-aiplatform) (23.2)\n",
            "Requirement already satisfied: google-cloud-storage<3.0.0dev,>=1.32.0 in /usr/local/lib/python3.10/dist-packages (from google-cloud-aiplatform) (2.8.0)\n",
            "Requirement already satisfied: google-cloud-bigquery<4.0.0dev,>=1.15.0 in /usr/local/lib/python3.10/dist-packages (from google-cloud-aiplatform) (3.12.0)\n",
            "Requirement already satisfied: google-cloud-resource-manager<3.0.0dev,>=1.3.3 in /usr/local/lib/python3.10/dist-packages (from google-cloud-aiplatform) (1.12.1)\n",
            "Requirement already satisfied: shapely<3.0.0dev in /usr/local/lib/python3.10/dist-packages (from google-cloud-aiplatform) (2.0.2)\n",
            "Requirement already satisfied: googleapis-common-protos<2.0.dev0,>=1.56.2 in /usr/local/lib/python3.10/dist-packages (from google-api-core[grpc]!=2.0.*,!=2.1.*,!=2.2.*,!=2.3.*,!=2.4.*,!=2.5.*,!=2.6.*,!=2.7.*,<3.0.0dev,>=1.34.1->google-cloud-aiplatform) (1.62.0)\n",
            "Requirement already satisfied: requests<3.0.0.dev0,>=2.18.0 in /usr/local/lib/python3.10/dist-packages (from google-api-core[grpc]!=2.0.*,!=2.1.*,!=2.2.*,!=2.3.*,!=2.4.*,!=2.5.*,!=2.6.*,!=2.7.*,<3.0.0dev,>=1.34.1->google-cloud-aiplatform) (2.31.0)\n",
            "Requirement already satisfied: grpcio<2.0dev,>=1.33.2 in /usr/local/lib/python3.10/dist-packages (from google-api-core[grpc]!=2.0.*,!=2.1.*,!=2.2.*,!=2.3.*,!=2.4.*,!=2.5.*,!=2.6.*,!=2.7.*,<3.0.0dev,>=1.34.1->google-cloud-aiplatform) (1.51.3)\n",
            "Requirement already satisfied: grpcio-status<2.0.dev0,>=1.33.2 in /usr/local/lib/python3.10/dist-packages (from google-api-core[grpc]!=2.0.*,!=2.1.*,!=2.2.*,!=2.3.*,!=2.4.*,!=2.5.*,!=2.6.*,!=2.7.*,<3.0.0dev,>=1.34.1->google-cloud-aiplatform) (1.48.2)\n",
            "Requirement already satisfied: cachetools<6.0,>=2.0.0 in /usr/local/lib/python3.10/dist-packages (from google-auth<3.0.0dev,>=2.14.1->google-cloud-aiplatform) (5.3.2)\n",
            "Requirement already satisfied: pyasn1-modules>=0.2.1 in /usr/local/lib/python3.10/dist-packages (from google-auth<3.0.0dev,>=2.14.1->google-cloud-aiplatform) (0.3.0)\n",
            "Requirement already satisfied: rsa<5,>=3.1.4 in /usr/local/lib/python3.10/dist-packages (from google-auth<3.0.0dev,>=2.14.1->google-cloud-aiplatform) (4.9)\n",
            "Requirement already satisfied: google-cloud-core<3.0.0dev,>=1.6.0 in /usr/local/lib/python3.10/dist-packages (from google-cloud-bigquery<4.0.0dev,>=1.15.0->google-cloud-aiplatform) (2.3.3)\n",
            "Requirement already satisfied: google-resumable-media<3.0dev,>=0.6.0 in /usr/local/lib/python3.10/dist-packages (from google-cloud-bigquery<4.0.0dev,>=1.15.0->google-cloud-aiplatform) (2.7.0)\n",
            "Requirement already satisfied: python-dateutil<3.0dev,>=2.7.2 in /usr/local/lib/python3.10/dist-packages (from google-cloud-bigquery<4.0.0dev,>=1.15.0->google-cloud-aiplatform) (2.8.2)\n",
            "Requirement already satisfied: grpc-google-iam-v1<1.0.0dev,>=0.12.4 in /usr/local/lib/python3.10/dist-packages (from google-cloud-resource-manager<3.0.0dev,>=1.3.3->google-cloud-aiplatform) (0.13.0)\n",
            "Requirement already satisfied: numpy>=1.14 in /usr/local/lib/python3.10/dist-packages (from shapely<3.0.0dev->google-cloud-aiplatform) (1.25.2)\n",
            "Requirement already satisfied: google-crc32c<2.0dev,>=1.0 in /usr/local/lib/python3.10/dist-packages (from google-resumable-media<3.0dev,>=0.6.0->google-cloud-bigquery<4.0.0dev,>=1.15.0->google-cloud-aiplatform) (1.5.0)\n",
            "Requirement already satisfied: pyasn1<0.6.0,>=0.4.6 in /usr/local/lib/python3.10/dist-packages (from pyasn1-modules>=0.2.1->google-auth<3.0.0dev,>=2.14.1->google-cloud-aiplatform) (0.5.1)\n",
            "Requirement already satisfied: six>=1.5 in /usr/local/lib/python3.10/dist-packages (from python-dateutil<3.0dev,>=2.7.2->google-cloud-bigquery<4.0.0dev,>=1.15.0->google-cloud-aiplatform) (1.16.0)\n",
            "Requirement already satisfied: charset-normalizer<4,>=2 in /usr/local/lib/python3.10/dist-packages (from requests<3.0.0.dev0,>=2.18.0->google-api-core[grpc]!=2.0.*,!=2.1.*,!=2.2.*,!=2.3.*,!=2.4.*,!=2.5.*,!=2.6.*,!=2.7.*,<3.0.0dev,>=1.34.1->google-cloud-aiplatform) (3.3.2)\n",
            "Requirement already satisfied: idna<4,>=2.5 in /usr/local/lib/python3.10/dist-packages (from requests<3.0.0.dev0,>=2.18.0->google-api-core[grpc]!=2.0.*,!=2.1.*,!=2.2.*,!=2.3.*,!=2.4.*,!=2.5.*,!=2.6.*,!=2.7.*,<3.0.0dev,>=1.34.1->google-cloud-aiplatform) (3.6)\n",
            "Requirement already satisfied: urllib3<3,>=1.21.1 in /usr/local/lib/python3.10/dist-packages (from requests<3.0.0.dev0,>=2.18.0->google-api-core[grpc]!=2.0.*,!=2.1.*,!=2.2.*,!=2.3.*,!=2.4.*,!=2.5.*,!=2.6.*,!=2.7.*,<3.0.0dev,>=1.34.1->google-cloud-aiplatform) (2.0.7)\n",
            "Requirement already satisfied: certifi>=2017.4.17 in /usr/local/lib/python3.10/dist-packages (from requests<3.0.0.dev0,>=2.18.0->google-api-core[grpc]!=2.0.*,!=2.1.*,!=2.2.*,!=2.3.*,!=2.4.*,!=2.5.*,!=2.6.*,!=2.7.*,<3.0.0dev,>=1.34.1->google-cloud-aiplatform) (2024.2.2)\n"
          ]
        }
      ],
      "source": [
        "!pip install google-cloud-aiplatform --upgrade --user"
      ]
    },
    {
      "cell_type": "markdown",
      "metadata": {
        "id": "j7UyNVSiyQ96"
      },
      "source": [
        "**Colab only:** Uncomment the following cell to restart the kernel or use the button to restart the kernel. For Vertex AI Workbench you can restart the terminal using the button on top."
      ]
    },
    {
      "cell_type": "code",
      "execution_count": 2,
      "metadata": {
        "id": "YmY9HVVGSBW5",
        "colab": {
          "base_uri": "https://localhost:8080/"
        },
        "executionInfo": {
          "status": "ok",
          "timestamp": 1709077003547,
          "user_tz": -540,
          "elapsed": 385,
          "user": {
            "displayName": "",
            "userId": ""
          }
        },
        "outputId": "8a0b087d-93f6-42b6-a69b-d7ae4b1864d5"
      },
      "outputs": [
        {
          "output_type": "execute_result",
          "data": {
            "text/plain": [
              "{'status': 'ok', 'restart': True}"
            ]
          },
          "metadata": {},
          "execution_count": 2
        }
      ],
      "source": [
        "# # Automatically restart kernel after installs so that your environment can access the new packages\n",
        "import IPython\n",
        "\n",
        "app = IPython.Application.instance()\n",
        "app.kernel.do_shutdown(True)"
      ]
    },
    {
      "cell_type": "markdown",
      "metadata": {
        "id": "6Fom0ZkMSBW6"
      },
      "source": [
        "### ノートブック環境の認証\n",
        "* **Colab** を使用してこのノートブックを実行している場合は、下のセルのコメントを解除して続行してください。\n",
        "* **Vertex AI Workbench** を使用している場合は、セットアップ手順を [こちら](https://github.com/GoogleCloudPlatform/generative-ai/tree/main/setup-env) で確認してください。"
      ]
    },
    {
      "cell_type": "code",
      "execution_count": 1,
      "metadata": {
        "id": "LCaCx6PLSBW6",
        "executionInfo": {
          "status": "ok",
          "timestamp": 1709077023594,
          "user_tz": -540,
          "elapsed": 389,
          "user": {
            "displayName": "",
            "userId": ""
          }
        }
      },
      "outputs": [],
      "source": [
        "from google.colab import auth\n",
        "auth.authenticate_user()"
      ]
    },
    {
      "cell_type": "markdown",
      "metadata": {
        "id": "GckO4EysV5BT"
      },
      "source": [
        "## Vertex AI PaLM API models"
      ]
    },
    {
      "cell_type": "markdown",
      "metadata": {
        "id": "BDYqwDmTLgEy"
      },
      "source": [
        "Vertex AI PaLM API を使用すると、PaLM と呼ばれる Google の大規模言語モデル (LLM) のインスタンスをテスト、カスタマイズ、デプロイできるため、アプリケーションで PaLM の機能を活用できます。\n",
        "\n",
        "### モデルの命名スキーム\n",
        "ファウンデーション モデル名には、ユース ケース、モデル サイズ、バージョン番号という 3 つの要素があります。 命名規則は次の形式になります。\n",
        "`<ユースケース>-<モデルサイズ>@<バージョン番号>`\n",
        "\n",
        "たとえば、text-bison@001 は Bison テキスト モデル、バージョン 001 を表します。\n",
        "\n",
        "モデルのサイズは次のとおりです。\n",
        "- **Bison**: 機能とコストの点で最高の価値があります。\n",
        "- **Gecko**: 単純なタスク向けの最小かつ安価なモデル。\n",
        "\n",
        "### 利用可能なモデル\n",
        "\n",
        "Vertex AI PaLM API は現在、次の 5 つのモデルをサポートしています。\n",
        "\n",
        "* `text-bison@001` : 自然言語の指示に従うように微調整されており、さまざまな言語タスクに適しています。\n",
        "* `chat-bison@001` : チャットボットの構築など、マルチターン会話のユースケース向けに微調整されています。\n",
        "* `textembedding-gecko@001` : テキスト入力のモデル埋め込みを返します。\n",
        "\n",
        "* `code-bison@001`: 目的のコードの自然言語記述に基づいてコードを生成するように微調整されたモデル。 たとえば、関数の単体テストを生成できます。\n",
        "\n",
        "* `code-gecko@001`: 記述されたコードのコンテキストに基づいてコード補完を提案するように微調整されたモデル。\n",
        "\n",
        "* `codechat-bison@001`: コード関連の質問に役立つチャットボット会話用に微調整されたモデル。\n",
        "\n",
        "これらのプロパティの詳細については、[Generative AI Studio ドキュメントの基本モデル](https://cloud.google.com/vertex-ai/docs/generative-ai/learn/models#foundation_models) をご覧ください。"
      ]
    },
    {
      "cell_type": "markdown",
      "metadata": {
        "id": "BuQwwRiniVFG"
      },
      "source": [
        "### Import libraries"
      ]
    },
    {
      "cell_type": "markdown",
      "metadata": {
        "id": "Vnq2kIV8yQ97"
      },
      "source": [
        "**Colab only:** Uncomment the following cell to initialize the Vertex AI SDK. For Vertex AI Workbench, you don't need to run this.  "
      ]
    },
    {
      "cell_type": "code",
      "execution_count": 3,
      "metadata": {
        "id": "rtMowvm-yQ97",
        "executionInfo": {
          "status": "ok",
          "timestamp": 1709077178562,
          "user_tz": -540,
          "elapsed": 400,
          "user": {
            "displayName": "",
            "userId": ""
          }
        }
      },
      "outputs": [],
      "source": [
        "import vertexai\n",
        "\n",
        "PROJECT_ID = \"qwiklabs-gcp-03-88c3eb367ba3\"  # @param {type:\"string\"}\n",
        "vertexai.init(project=PROJECT_ID, location=\"us-central1\")"
      ]
    },
    {
      "cell_type": "code",
      "execution_count": 4,
      "metadata": {
        "id": "4zjV4alsiVql",
        "colab": {
          "base_uri": "https://localhost:8080/"
        },
        "executionInfo": {
          "status": "ok",
          "timestamp": 1709077204782,
          "user_tz": -540,
          "elapsed": 17853,
          "user": {
            "displayName": "",
            "userId": ""
          }
        },
        "outputId": "84d3afdd-bf55-41b2-b0d1-4e52826d6c57"
      },
      "outputs": [
        {
          "output_type": "stream",
          "name": "stdout",
          "text": [
            "Collecting japanize-matplotlib\n",
            "  Downloading japanize-matplotlib-1.1.3.tar.gz (4.1 MB)\n",
            "\u001b[2K     \u001b[90m━━━━━━━━━━━━━━━━━━━━━━━━━━━━━━━━━━━━━━━━\u001b[0m \u001b[32m4.1/4.1 MB\u001b[0m \u001b[31m15.8 MB/s\u001b[0m eta \u001b[36m0:00:00\u001b[0m\n",
            "\u001b[?25h  Preparing metadata (setup.py) ... \u001b[?25l\u001b[?25hdone\n",
            "Requirement already satisfied: matplotlib in /usr/local/lib/python3.10/dist-packages (from japanize-matplotlib) (3.7.1)\n",
            "Requirement already satisfied: contourpy>=1.0.1 in /usr/local/lib/python3.10/dist-packages (from matplotlib->japanize-matplotlib) (1.2.0)\n",
            "Requirement already satisfied: cycler>=0.10 in /usr/local/lib/python3.10/dist-packages (from matplotlib->japanize-matplotlib) (0.12.1)\n",
            "Requirement already satisfied: fonttools>=4.22.0 in /usr/local/lib/python3.10/dist-packages (from matplotlib->japanize-matplotlib) (4.48.1)\n",
            "Requirement already satisfied: kiwisolver>=1.0.1 in /usr/local/lib/python3.10/dist-packages (from matplotlib->japanize-matplotlib) (1.4.5)\n",
            "Requirement already satisfied: numpy>=1.20 in /usr/local/lib/python3.10/dist-packages (from matplotlib->japanize-matplotlib) (1.25.2)\n",
            "Requirement already satisfied: packaging>=20.0 in /usr/local/lib/python3.10/dist-packages (from matplotlib->japanize-matplotlib) (23.2)\n",
            "Requirement already satisfied: pillow>=6.2.0 in /usr/local/lib/python3.10/dist-packages (from matplotlib->japanize-matplotlib) (9.4.0)\n",
            "Requirement already satisfied: pyparsing>=2.3.1 in /usr/local/lib/python3.10/dist-packages (from matplotlib->japanize-matplotlib) (3.1.1)\n",
            "Requirement already satisfied: python-dateutil>=2.7 in /usr/local/lib/python3.10/dist-packages (from matplotlib->japanize-matplotlib) (2.8.2)\n",
            "Requirement already satisfied: six>=1.5 in /usr/local/lib/python3.10/dist-packages (from python-dateutil>=2.7->matplotlib->japanize-matplotlib) (1.16.0)\n",
            "Building wheels for collected packages: japanize-matplotlib\n",
            "  Building wheel for japanize-matplotlib (setup.py) ... \u001b[?25l\u001b[?25hdone\n",
            "  Created wheel for japanize-matplotlib: filename=japanize_matplotlib-1.1.3-py3-none-any.whl size=4120257 sha256=dafe7db5efeea230d09f49bc0aeb5e20e7cd2c10a9f24a9a62dfd3511e6d265f\n",
            "  Stored in directory: /root/.cache/pip/wheels/61/7a/6b/df1f79be9c59862525070e157e62b08eab8ece27c1b68fbb94\n",
            "Successfully built japanize-matplotlib\n",
            "Installing collected packages: japanize-matplotlib\n",
            "Successfully installed japanize-matplotlib-1.1.3\n"
          ]
        }
      ],
      "source": [
        "! pip install japanize-matplotlib\n",
        "import japanize_matplotlib\n",
        "\n",
        "\n",
        "import pandas as pd\n",
        "import seaborn as sns\n",
        "from IPython.display import Markdown, display\n",
        "from sklearn.metrics.pairwise import cosine_similarity\n",
        "from vertexai.language_models import TextGenerationModel, \\\n",
        "                                     TextEmbeddingModel, \\\n",
        "                                     ChatModel, \\\n",
        "                                     InputOutputTextPair, \\\n",
        "                                     CodeGenerationModel, \\\n",
        "                                     CodeChatModel"
      ]
    },
    {
      "cell_type": "markdown",
      "metadata": {
        "id": "_mU6EZEhakVu"
      },
      "source": [
        "## `text-bison@001` によるテキスト生成\n",
        "\n",
        "このノートブックで使用する PaLM API からのテキスト生成モデルは `text-bison@001` です。\n",
        "自然言語の指示に従うように微調整されており、次のようなさまざまな言語タスクに適しています。\n",
        "\n",
        "- 分類\n",
        "- 感情分析\n",
        "- エンティティの抽出\n",
        "- 抽出的質疑応答\n",
        "- 要約\n",
        "- テキストを別のスタイルで書き直す\n",
        "- 広告コピーの生成\n",
        "- コンセプトの立案\n",
        "- 概念の簡素化"
      ]
    },
    {
      "cell_type": "markdown",
      "metadata": {
        "id": "4437b7608c8e"
      },
      "source": [
        "#### Load model"
      ]
    },
    {
      "cell_type": "code",
      "execution_count": 5,
      "metadata": {
        "id": "2998506fe6d1",
        "executionInfo": {
          "status": "ok",
          "timestamp": 1709077220398,
          "user_tz": -540,
          "elapsed": 1002,
          "user": {
            "displayName": "",
            "userId": ""
          }
        }
      },
      "outputs": [],
      "source": [
        "generation_model = TextGenerationModel.from_pretrained(\"text-bison@001\")"
      ]
    },
    {
      "cell_type": "markdown",
      "metadata": {
        "id": "7a5d006f3813"
      },
      "source": [
        "#### Prompt design\n",
        "Prompt designは、言語モデルから望ましい応答を引き出すプロンプトを作成するプロセスです。 迅速な設計は、専門家でなくても最小限のオーバーヘッドでモデルの出力を制御できるため、言語モデルを使用する際の重要な部分です。 プロンプトを慎重に作成することで、モデルを微調整して目的の結果を生成できます。 即時設計は、LLM を特定のユースケースに適応させて実験する効率的な方法となります。 プロンプトを繰り返し更新し、モデルの応答を評価する反復プロセスは、プロンプト エンジニアリングと呼ばれることもあります。"
      ]
    },
    {
      "cell_type": "markdown",
      "metadata": {
        "id": "kEAJ0ipmbndQ"
      },
      "source": [
        "#### Hello PaLM"
      ]
    },
    {
      "cell_type": "markdown",
      "metadata": {
        "id": "tCgBDJvNRCF5"
      },
      "source": [
        "最初のプロンプトを作成し、テキスト生成モデルに送信します。"
      ]
    },
    {
      "cell_type": "code",
      "execution_count": 6,
      "metadata": {
        "id": "cx_o455SRCF5",
        "colab": {
          "base_uri": "https://localhost:8080/"
        },
        "executionInfo": {
          "status": "ok",
          "timestamp": 1709077226657,
          "user_tz": -540,
          "elapsed": 954,
          "user": {
            "displayName": "",
            "userId": ""
          }
        },
        "outputId": "a52b37b6-de36-4f2d-c7b6-a9fc706d6ea8"
      },
      "outputs": [
        {
          "output_type": "stream",
          "name": "stdout",
          "text": [
            "ヘルスケア業界は、高騰する医療費、医療の質の低下、医療へのアクセスの悪化など、多くの課題に直面しています。これらの課題に対処するために、ヘルスケア業界は、より効率的な医療システムの構築、医療の質の向上、医療へのアクセスの改善に取り組む必要があります。\n"
          ]
        }
      ],
      "source": [
        "prompt = \"ヘルスケア業界が直面している最大の課題は何ですか?\"\n",
        "\n",
        "response = generation_model.predict(prompt=prompt)\n",
        "\n",
        "print(response.text)"
      ]
    },
    {
      "cell_type": "markdown",
      "metadata": {
        "id": "Us8idXnVyQ97"
      },
      "source": [
        "#### Try out your own prompt"
      ]
    },
    {
      "cell_type": "markdown",
      "metadata": {
        "id": "_8YW1hBNyQ97"
      },
      "source": [
        "- ヘルスケア業界が直面している最大の課題は何ですか?\n",
        "- 自動車業界の最新の動向は何ですか?\n",
        "- 小売業界における最大のチャンスは何ですか?\n",
        "- (独自のプロンプトを試してください!)"
      ]
    },
    {
      "cell_type": "code",
      "execution_count": 7,
      "metadata": {
        "id": "MmAZQW1GyQ97",
        "colab": {
          "base_uri": "https://localhost:8080/"
        },
        "executionInfo": {
          "status": "ok",
          "timestamp": 1709077233789,
          "user_tz": -540,
          "elapsed": 1342,
          "user": {
            "displayName": "",
            "userId": ""
          }
        },
        "outputId": "be9818bb-8cdd-43a6-8161-ca7ace7f4a16"
      },
      "outputs": [
        {
          "output_type": "stream",
          "name": "stdout",
          "text": [
            "1. クラウドコンピューティング\n",
            "2. モバイルアプリ\n",
            "3. ソーシャルメディア\n",
            "4. ビッグデータ\n",
            "5. 人工知能\n",
            "6. 機械学習\n",
            "7. ブロックチェーン\n",
            "8. 仮想現実（VR）\n",
            "9. 拡張現実（AR）\n",
            "10. 量子コンピューティング\n"
          ]
        }
      ],
      "source": [
        "prompt = \"\"\"10 項目の番号付きリストを作成します。 リストの各項目はテクノロジー業界のトレンドである必要があります。\n",
        "\n",
        "各トレンドは 5 ワード未満にする必要があります.\"\"\" # try your own prompt\n",
        "\n",
        "response = generation_model.predict(prompt=prompt)\n",
        "\n",
        "print(response.text)"
      ]
    },
    {
      "cell_type": "markdown",
      "metadata": {
        "id": "EsglQtgDRCF5"
      },
      "source": [
        "#### Prompt templates"
      ]
    },
    {
      "cell_type": "markdown",
      "metadata": {
        "id": "9BP1BKWiRCF6"
      },
      "source": [
        "プロンプト テンプレートは、再利用できるプロンプトを構成する適切な方法を見つけた場合に役立ちます。 これは、自由形式プロンプトの自由形式を制限するのにも役立ちます。 プロンプト テンプレートを実装するにはさまざまな方法がありますが、以下は f-strings を使用した一例にすぎません。"
      ]
    },
    {
      "cell_type": "code",
      "execution_count": 8,
      "metadata": {
        "id": "2USfPyOuFhlB",
        "colab": {
          "base_uri": "https://localhost:8080/"
        },
        "executionInfo": {
          "status": "ok",
          "timestamp": 1709077239215,
          "user_tz": -540,
          "elapsed": 827,
          "user": {
            "displayName": "",
            "userId": ""
          }
        },
        "outputId": "340bdf75-b817-4eae-c11f-e8402275060a"
      },
      "outputs": [
        {
          "output_type": "stream",
          "name": "stdout",
          "text": [
            "1. クラウドコンピューティング\n",
            "2. モバイルアプリ\n",
            "3. ビッグデータ\n",
            "4. 人工知能\n",
            "5. 機械学習\n",
            "6. ブロックチェーン\n",
            "7. 仮想現実（VR）\n",
            "8. 拡張現実（AR）\n",
            "9. インターネット・オブ・シングズ（IoT）\n",
            "10. ウェアラブルテクノロジー\n"
          ]
        }
      ],
      "source": [
        "my_industry = \"tech\" # try changing this to a different industry\n",
        "\n",
        "response = generation_model.predict(\n",
        "    prompt=f\"\"\"10 項目の番号付きリストを作成します。 リスト内の各項目は、\n",
        "     {my_industry} 業界のトレンドであること。\n",
        "\n",
        "     各トレンドは 5 ワード未満にする必要があります。\"\"\"\n",
        ")\n",
        "\n",
        "print(response.text)"
      ]
    },
    {
      "cell_type": "markdown",
      "metadata": {
        "id": "m65AyLt8yvdB"
      },
      "source": [
        "### Model parameters for `text-bison@001`"
      ]
    },
    {
      "cell_type": "markdown",
      "metadata": {
        "id": "vQuZh6GT0Yn4"
      },
      "source": [
        "`text-bison@001` の次のパラメーターを使用して、プロンプトに応答して PaLM API がどのように動作するかをカスタマイズできます。\n",
        "\n",
        "  - `temperature`: 高いほど、より「創造的な」応答を意味します\n",
        "  - `max_output_tokens`: 出力内のトークンの最大数を設定します。\n",
        "  - `top_p`: 高いほど、累積確率に基づいて、より多くの可能性のある次のトークンから取得されることを意味します\n",
        "  - `top_k`: 高いほど、より多くの可能性のある次のトークンからサンプリングされることを意味します\n",
        "\n",
        "以下のセクションでは、各パラメータとその使用方法について説明します。"
      ]
    },
    {
      "cell_type": "markdown",
      "metadata": {
        "id": "JF76AKzaF2IP"
      },
      "source": [
        "#### 「temperature」パラメータ (範囲: 0.0 - 1.0、デフォルトは 0)\n",
        "\n",
        "##### _temperature_とは何ですか?\n",
        "temperatureは、top_p および top_k が適用されるときに発生する応答生成中のサンプリングに使用されます。 temperatureは、トークン選択のランダム性の程度を制御します。\n",
        "\n",
        "##### _temperature_は応答にどのような影響を与えますか?\n",
        "temperatureが低いほど、より決定的で自由回答が少ない応答が必要なプロンプトに適しています。 比較すると、temperatureが高いほど、より「創造的」または多様な結果が得られます。 temperature「0」は決定的です。最も高い確率の応答が常に選択されます。 ほとんどの使用例では、temperature「0.2」から始めてみてください。\n",
        "\n",
        "temperatureの値が高いほど、より探索的な出力が得られ、珍しいまたは珍しい単語やフレーズが生成される可能性が高くなります。 逆に、temperature値が低いと出力はより控えめになり、一般的な単語やフレーズが生成される可能性が高くなります。\n",
        "\n",
        "##### 例：\n",
        "\n",
        "例えば、\n",
        "\n",
        "`temperature = 0.0`:\n",
        "\n",
        "* _猫はソファに座って、外の鳥を眺めていました。_\n",
        "* _猫は窓辺に座って日向ぼっこをしていました。_\n",
        "\n",
        "`temperature = 0.9`:\n",
        "\n",
        "* _猫は月に座り、星に向かって鳴いていました。_\n",
        "* _猫はチーズバーガーの上に座り、嬉しそうに喉を鳴らしました。_\n",
        "\n",
        "**注意**: temperatureパラメータは、より多様で興味深いテキストの生成に役立ちますが、意味のないテキストや不適切なテキスト (幻覚など) が生成される可能性も高まる可能性があることに注意することが重要です。 したがって、望ましい結果を考慮して慎重に使用することが重要です。\n",
        "\n",
        "テキスト モデルの「temperature」パラメーターの詳細については、[モデル パラメーターに関するドキュメント](https://cloud.google.com/vertex-ai/docs/generative-ai/learn/models#text_model_parameters) を参照してください。 。"
      ]
    },
    {
      "cell_type": "markdown",
      "metadata": {
        "id": "aMEz2P18SBW-"
      },
      "source": [
        "次のセルを複数回実行すると、「temperature=0」は決定的であるため、常に同じ応答が返されるはずです。"
      ]
    },
    {
      "cell_type": "code",
      "execution_count": 9,
      "metadata": {
        "id": "cxPM1A8uR81l",
        "colab": {
          "base_uri": "https://localhost:8080/"
        },
        "executionInfo": {
          "status": "ok",
          "timestamp": 1709077258847,
          "user_tz": -540,
          "elapsed": 1226,
          "user": {
            "displayName": "",
            "userId": ""
          }
        },
        "outputId": "b69c19fd-9853-4608-d1b8-695c860018bc"
      },
      "outputs": [
        {
          "output_type": "stream",
          "name": "stdout",
          "text": [
            "[temperature = 0.0]\n",
            "額縁を準備したときに、ツールキットに手を伸ばして次のものを取り出しました: ハンマー、釘、ノコギリ、のこぎり、カッター、ペンチ、ドライバー、ねじ回し、テープ、鉛筆、定規、カッターマット、マスキングテープ、サンドペーパー、布、ワックス、ブラシ、スポンジ、掃除機、ゴミ箱、新聞紙、雑巾、水、洗剤、タオル、手袋、安全メガネ、ヘルメット、作業服、安全靴、安全帯、\n"
          ]
        }
      ],
      "source": [
        "temp_val = 0.0\n",
        "prompt_temperature = \"文を完成させてください: 額縁を準備したときに、ツールキットに手を伸ばして次のものを取り出しました:\"\n",
        "\n",
        "response = generation_model.predict(\n",
        "    prompt=prompt_temperature,\n",
        "    temperature=temp_val,\n",
        ")\n",
        "\n",
        "print(f\"[temperature = {temp_val}]\")\n",
        "print(response.text)"
      ]
    },
    {
      "cell_type": "markdown",
      "metadata": {
        "id": "5B91rIFiSBW_"
      },
      "source": [
        "次のセルを複数回実行すると、プロンプトが上記のセルと同じであっても、temperature値が高くなるとより多様な結果が得られる可能性があるため、異なる応答が返される可能性があります。"
      ]
    },
    {
      "cell_type": "code",
      "execution_count": 10,
      "metadata": {
        "id": "z2mKiDB5SBW_",
        "colab": {
          "base_uri": "https://localhost:8080/"
        },
        "executionInfo": {
          "status": "ok",
          "timestamp": 1709077265290,
          "user_tz": -540,
          "elapsed": 1374,
          "user": {
            "displayName": "",
            "userId": ""
          }
        },
        "outputId": "a1ced52d-bb9b-485d-cf9c-47c66b8acabb"
      },
      "outputs": [
        {
          "output_type": "stream",
          "name": "stdout",
          "text": [
            "[temperature = 1.0]\n",
            " I reached into my toolkit when preparing the frame and pulled out the following: hammer, nails, level.\n"
          ]
        }
      ],
      "source": [
        "temp_val = 1.0\n",
        "\n",
        "response = generation_model.predict(\n",
        "    prompt=prompt_temperature,\n",
        "    temperature=temp_val,\n",
        ")\n",
        "\n",
        "print(f\"[temperature = {temp_val}]\")\n",
        "print(response.text)"
      ]
    },
    {
      "cell_type": "markdown",
      "metadata": {
        "id": "JRYTOKQpGpfP"
      },
      "source": [
        "#### `max_output_tokens` パラメータ (範囲: 1 ～ 1024、デフォルトは 128)\n",
        "\n",
        "##### トークン\n",
        "単一のトークンは単語よりも小さい場合があります。 たとえば、トークンは約 4 文字です。 したがって、100 個のトークンはおよそ 60 ～ 80 個の単語に対応します。 モデルには入力トークンと出力トークンに制限があるため、トークン サイズを認識することが重要です。\n",
        "\n",
        "##### _max_output_tokens_ とは何ですか?\n",
        "`max_output_tokens` は、応答で生成できるトークンの最大数です。\n",
        "\n",
        "##### _max_output_tokens_ は応答にどのように影響しますか?\n",
        "\n",
        "応答が短い場合は低い値を指定し、応答が長い場合は高い値を指定します。 トークンは単語よりも小さい場合があります。 トークンは約 4 文字です。 100 個のトークンは、およそ 60 ～ 80 個の単語に対応します。\n",
        "\n",
        "テキスト モデルの「max_output_tokens」パラメータの詳細については、[モデル パラメータに関するドキュメント](https://cloud.google.com/vertex-ai/docs/generative-ai/learn/models#text_model_parameters)を参照してください。 。"
      ]
    },
    {
      "cell_type": "code",
      "execution_count": 11,
      "metadata": {
        "id": "ZUjANX_mNLuI",
        "colab": {
          "base_uri": "https://localhost:8080/"
        },
        "executionInfo": {
          "status": "ok",
          "timestamp": 1709077278703,
          "user_tz": -540,
          "elapsed": 408,
          "user": {
            "displayName": "",
            "userId": ""
          }
        },
        "outputId": "f4b8869b-5d53-482a-b931-0d58508cf373"
      },
      "outputs": [
        {
          "output_type": "stream",
          "name": "stdout",
          "text": [
            "[max_output_tokens = 5]\n",
            "1. パー\n"
          ]
        }
      ],
      "source": [
        "max_output_tokens_val = 5\n",
        "\n",
        "response = generation_model.predict(\n",
        "    prompt=\"生成 AI がユーザーのオンライン ショッピング エクスペリエンスの向上に役立つ 10 の方法を挙げてください\",\n",
        "    max_output_tokens=max_output_tokens_val,\n",
        ")\n",
        "\n",
        "print(f\"[max_output_tokens = {max_output_tokens_val}]\")\n",
        "print(response.text)"
      ]
    },
    {
      "cell_type": "code",
      "execution_count": 12,
      "metadata": {
        "id": "9DiHeUgSNX1m",
        "colab": {
          "base_uri": "https://localhost:8080/"
        },
        "executionInfo": {
          "status": "ok",
          "timestamp": 1709077283971,
          "user_tz": -540,
          "elapsed": 1217,
          "user": {
            "displayName": "",
            "userId": ""
          }
        },
        "outputId": "b90d0bc0-937b-40a9-d9ef-263460a0aad2"
      },
      "outputs": [
        {
          "output_type": "stream",
          "name": "stdout",
          "text": [
            "[max_output_tokens = 500]\n",
            "1. パーソナライズされた製品の推奨事項を提供します。\n",
            "2. より関連性の高い検索結果を表示します。\n",
            "3. よりインタラクティブな製品ページを作成します。\n",
            "4. よりスムーズなチェックアウトプロセスを提供します。\n",
            "5. カスタマーサポートを強化します。\n",
            "6. より予測的なメンテナンスサービスを提供します。\n",
            "7. より安全なオンラインショッピング環境を提供します。\n",
            "8. より持続可能なショッピング体験を提供します。\n",
            "9. より楽しいショッピング体験を提供します。\n",
            "10. より便利なショッピング体験を提供します。\n"
          ]
        }
      ],
      "source": [
        "max_output_tokens_val = 500\n",
        "\n",
        "response = generation_model.predict(\n",
        "    prompt = \"生成 AI がユーザーのオンライン ショッピング エクスペリエンスの向上に役立つ 10 の方法を挙げてください\",\n",
        "    max_output_tokens=max_output_tokens_val,\n",
        ")\n",
        "\n",
        "print(f\"[max_output_tokens = {max_output_tokens_val}]\")\n",
        "print(response.text)"
      ]
    },
    {
      "cell_type": "markdown",
      "metadata": {
        "id": "ZRVHZ546yQ98"
      },
      "source": [
        "For easier reading, you can also render Markdown in Jupyter:"
      ]
    },
    {
      "cell_type": "code",
      "execution_count": 13,
      "metadata": {
        "id": "6MxmNsp-yQ98",
        "colab": {
          "base_uri": "https://localhost:8080/",
          "height": 219
        },
        "executionInfo": {
          "status": "ok",
          "timestamp": 1709077290728,
          "user_tz": -540,
          "elapsed": 410,
          "user": {
            "displayName": "",
            "userId": ""
          }
        },
        "outputId": "4460d259-9291-4712-ccbf-5374854567a4"
      },
      "outputs": [
        {
          "output_type": "display_data",
          "data": {
            "text/plain": [
              "<IPython.core.display.Markdown object>"
            ],
            "text/markdown": "1. パーソナライズされた製品の推奨事項を提供します。\n2. より関連性の高い検索結果を表示します。\n3. よりインタラクティブな製品ページを作成します。\n4. よりスムーズなチェックアウトプロセスを提供します。\n5. カスタマーサポートを強化します。\n6. より予測的なメンテナンスサービスを提供します。\n7. より安全なオンラインショッピング環境を提供します。\n8. より持続可能なショッピング体験を提供します。\n9. より楽しいショッピング体験を提供します。\n10. より便利なショッピング体験を提供します。"
          },
          "metadata": {}
        }
      ],
      "source": [
        "display(Markdown(response.text))"
      ]
    },
    {
      "cell_type": "markdown",
      "metadata": {
        "id": "kD3S2XsnHL50"
      },
      "source": [
        "#### `top_p` パラメータ (範囲: 0.0 - 1.0、デフォルトは 0.95)\n",
        "\n",
        "##### _top_p_ とは何ですか?\n",
        "`top_p` は、累積確率カットオフに基づいて生成されたテキスト内の次の単語の確率分布を調整することにより、モデルが出力用のトークンを選択する方法を制御します。 具体的には、累積確率が指定されたカットオフ確率 _p_ を超える最小のトークンのセットを選択し、このセットから均一にサンプルします。\n",
        "\n",
        "\n",
        "たとえば、トークン A、B、および C の確率が 0.3、0.2、および 0.1 で、「top_p」値が 0.5 であるとします。 その場合、top_p の累積確率が 0.5 以下であるため、モデルは次のトークンとして A または B を選択し (temperatureを使用)、C は考慮しません。 ランダム性が低い応答には低い値を指定し、よりランダムな応答には高い値を指定します。\n",
        "\n",
        "##### _top_p_ は応答にどのような影響を与えますか?\n",
        "\n",
        "`top_p` パラメータは、生成されるテキストの多様性を制御するために使用されます。 `top_p` パラメーターの値が高くなると、モデルがより大きな可能性のプールからサンプリングできるようになり、より「多様」で「興味深い」出力が得られます。 対照的に、「top_p」パラメーター値が低いと、モデルが可能なトークンのより小さいセットに制限され、より予測可能な出力が得られます。\n",
        "\n",
        "\n",
        "##### 例：\n",
        "\n",
        "`top_p = 0.1`:\n",
        "\n",
        "- 猫はマットの上に座りました。\n",
        "- 猫は床に座りました。\n",
        "\n",
        "`top_p = 0.9`:\n",
        "\n",
        "- 猫は窓辺に座り、太陽の光を浴びていました。\n",
        "- 猫はベッドの端に座って、外の鳥を眺めていました。\n",
        "\n",
        "テキスト モデルの「top_p」パラメータの詳細については、[モデル パラメータに関するドキュメント](https://cloud.google.com/vertex-ai/docs/generative-ai/learn/models#text_model_parameters)を参照してください。 。"
      ]
    },
    {
      "cell_type": "code",
      "execution_count": 14,
      "metadata": {
        "id": "RAJiVYprNle1",
        "colab": {
          "base_uri": "https://localhost:8080/"
        },
        "executionInfo": {
          "status": "ok",
          "timestamp": 1709077300667,
          "user_tz": -540,
          "elapsed": 1464,
          "user": {
            "displayName": "",
            "userId": ""
          }
        },
        "outputId": "4576eb4c-3acd-4b49-ccec-5b6c0fa63e45"
      },
      "outputs": [
        {
          "output_type": "stream",
          "name": "stdout",
          "text": [
            "[top_p = 0.0]\n",
            "青い象とアボカドを使ったジャケットのマーケティングキャンペーンを作成するには、まずターゲット市場を特定する必要があります。このジャケットは、環境に配慮した消費者や、ユニークなファッションアイテムを求める消費者にアピールする可能性があります。次に、ジャケットの特徴を強調するビジュアルやコピーを作成する必要があります。例えば、ジャケットの青い色は自然と調和し、アボカドは健康的で栄養価の高い食品であることを伝えることができます。最後に、キャンペーンを実施するための適切なチャネルを選択する必要があります。ソーシャルメディアやオンライン広告は、このジャケットを幅広い\n"
          ]
        }
      ],
      "source": [
        "top_p_val = 0.0\n",
        "prompt_top_p_example = (\n",
        "      \"青い象とアボカドを使用したジャケットのマーケティング キャンペーンを作成する.\"\n",
        ")\n",
        "\n",
        "response = generation_model.predict(\n",
        "    prompt=prompt_top_p_example, temperature=0.9, top_p=top_p_val\n",
        ")\n",
        "\n",
        "print(f\"[top_p = {top_p_val}]\")\n",
        "print(response.text)"
      ]
    },
    {
      "cell_type": "code",
      "execution_count": 15,
      "metadata": {
        "id": "zm69kbcyN2gg",
        "colab": {
          "base_uri": "https://localhost:8080/"
        },
        "executionInfo": {
          "status": "ok",
          "timestamp": 1709077309392,
          "user_tz": -540,
          "elapsed": 1228,
          "user": {
            "displayName": "",
            "userId": ""
          }
        },
        "outputId": "31480370-2714-43e5-83e1-88152aec310e"
      },
      "outputs": [
        {
          "output_type": "stream",
          "name": "stdout",
          "text": [
            "[top_p = 1.0]\n",
            "**青い象とアボカドを使ったジャケットのマーケティングキャンペーン**\n",
            "\n",
            "* * *\n",
            "\n",
            "**キャンペーンの目的:**\n",
            "\n",
            "このキャンペーンの目的は、青い象とアボカドを使ったジャケットの認知度を高めることです。このジャケットは、そのユニークなデザインと色で人目を引くものです。また、このジャケットは非常に快適で、着る人に自信を与えます。\n",
            "\n",
            "* * *\n",
            "\n",
            "**ターゲットオーディエンス:**\n",
            "\n",
            "このキャンペーンは、18歳から34歳の若い成人をターゲットにしています。\n"
          ]
        }
      ],
      "source": [
        "top_p_val = 1.0\n",
        "\n",
        "response = generation_model.predict(\n",
        "    prompt=prompt_top_p_example, temperature=0.9, top_p=top_p_val\n",
        ")\n",
        "\n",
        "print(f\"[top_p = {top_p_val}]\")\n",
        "print(response.text)"
      ]
    },
    {
      "cell_type": "markdown",
      "metadata": {
        "id": "Krop7HXOIy8f"
      },
      "source": [
        "#### `top_k` パラメータ (範囲: 0.0 - 40、デフォルトは 40)\n",
        "\n",
        "##### _top_k_ とは何ですか?\n",
        "`top_k` は、モデルが出力用のトークンを選択する方法を変更します。 `top_k` が 1 の場合は、選択されたトークンがモデルのボキャブラリ内のすべてのトークンの中で最も可能性が高いことを意味します (貪欲デコードとも呼ばれます)。 対照的に、「top_k」が 3 の場合は、(temperatureを使用して) 最も可能性の高い上位 3 つのトークンから次のトークンが選択されることを意味します。 トークン選択ステップごとに、最も高い確率を持つ「top_k」トークンがサンプリングされます。 次に、トークンは「top_p」に基づいてさらにフィルタリングされ、temperatureサンプリングを使用して最終トークンが選択されます。\n",
        "\n",
        "##### _top_k_ は応答にどのような影響を与えますか?\n",
        "\n",
        "ランダム性が低い応答には低い値を指定し、よりランダムな応答には高い値を指定します。\n",
        "\n",
        "テキスト モデルの「top_k」パラメーターの詳細については、[モデル パラメーターに関するドキュメント](https://cloud.google.com/vertex-ai/docs/generative-ai/learn/models#text_model_parameters) を参照してください。 。"
      ]
    },
    {
      "cell_type": "code",
      "execution_count": 16,
      "metadata": {
        "id": "qK76o1hYO3ej",
        "colab": {
          "base_uri": "https://localhost:8080/"
        },
        "executionInfo": {
          "status": "ok",
          "timestamp": 1709077320665,
          "user_tz": -540,
          "elapsed": 2498,
          "user": {
            "displayName": "",
            "userId": ""
          }
        },
        "outputId": "dde89b69-208e-4f7f-99a5-4f65cf55a8e8"
      },
      "outputs": [
        {
          "output_type": "stream",
          "name": "stdout",
          "text": [
            "[top_k = 1]\n",
            "インドネシアは、東南アジアに位置する多民族国家です。国土は約17,500の島々からなり、世界で2番目に人口の多い国です。インドネシアは、豊かな自然、多様な文化、そしておいしい料理で知られています。\n",
            "\n",
            "2日間のインドネシア旅行では、以下の場所を訪れることができます。\n",
            "\n",
            "* ジャカルタ：インドネシアの首都であるジャカルタは、活気のある大都市です。ここでは、国立モニュメント、タマン・アイル・ランガット公園、そしてジャカルタの歴史的中心部であるガジャマハラ地区を訪れることができます。\n",
            "* ボゴール：ジャカルタから約1時間のボゴールは、インドネシアの植民地時代の首都でした。ここでは、ボゴール王宮、ボゴール植物園、そしてボゴールの丘陵地帯を訪れることができます。\n",
            "* バリ島：インドネシアの最も人気のある観光地であるバリ島は、白い砂浜、緑豊かな山々、そして活気のある寺院で知られています。ここでは、ウブド、クタ、そしてジンバランビーチを訪れることができます。\n",
            "\n",
            "この2日間の旅程では、インドネシアの多様な文化、自然、そして歴史を体験することができます。\n"
          ]
        }
      ],
      "source": [
        "prompt_top_k_example = \"インドネシアへの 2 日間の旅程を作成する.\"\n",
        "top_k_val = 1\n",
        "\n",
        "response = generation_model.predict(\n",
        "    prompt=prompt_top_k_example, max_output_tokens=300, temperature=0.9, top_k=top_k_val\n",
        ")\n",
        "\n",
        "print(f\"[top_k = {top_k_val}]\")\n",
        "print(response.text)"
      ]
    },
    {
      "cell_type": "code",
      "execution_count": 17,
      "metadata": {
        "id": "Hhu9d23vPGmK",
        "colab": {
          "base_uri": "https://localhost:8080/"
        },
        "executionInfo": {
          "status": "ok",
          "timestamp": 1709077326975,
          "user_tz": -540,
          "elapsed": 2294,
          "user": {
            "displayName": "",
            "userId": ""
          }
        },
        "outputId": "e8495955-d9a6-4587-c3eb-71652a4af3bf"
      },
      "outputs": [
        {
          "output_type": "stream",
          "name": "stdout",
          "text": [
            "[top_k = 40]\n",
            "Day 1:\n",
            "* Arrive in Jakarta, the capital of Indonesia. Check into your hotel and leave your luggage.\n",
            "* Take a taxi to the National Museum, which houses a collection of artifacts from all over Indonesia.\n",
            "* Have lunch at a local restaurant.\n",
            "* Visit the Istiqlal Mosque, the largest mosque in Southeast Asia.\n",
            "* Take a walk through the Taman Impian Jaya Ancol amusement park.\n",
            "* Have dinner at a seafood restaurant.\n",
            "\n",
            "Day 2:\n",
            "* Take a flight to Bali, an island in the Indian Ocean. Check into your hotel and leave your luggage.\n",
            "* Visit the Ubud Monkey Forest, where you can see monkeys, deer, and other animals.\n",
            "* Have lunch at a traditional Balinese restaurant.\n",
            "* Visit the Tanah Lot Temple, a Hindu temple built on a rock offshore.\n",
            "* Take a sunset cruise.\n",
            "* Have dinner at a beachfront restaurant.\n"
          ]
        }
      ],
      "source": [
        "top_k_val = 40\n",
        "\n",
        "response = generation_model.predict(\n",
        "    prompt=prompt_top_k_example,\n",
        "    max_output_tokens=300,\n",
        "    temperature=0.9,\n",
        "    top_k=top_k_val,\n",
        ")\n",
        "\n",
        "print(f\"[top_k = {top_k_val}]\")\n",
        "print(response.text)"
      ]
    },
    {
      "cell_type": "markdown",
      "metadata": {
        "id": "14ada40abecc"
      },
      "source": [
        "## Chat model with `chat-bison@001`"
      ]
    },
    {
      "cell_type": "markdown",
      "metadata": {
        "id": "1923b5583a2d"
      },
      "source": [
        "「chat-bison@001」モデルを使用すると、複数のターンにわたってフリーフォームの会話を行うことができます。 アプリケーションは、会話で以前に話された内容を追跡します。 したがって、アプリケーションで会話を使用する予定がある場合は、複数ターンの会話のユースケース向けに微調整されている「chat-bison@001」モデルを使用してください。"
      ]
    },
    {
      "cell_type": "code",
      "execution_count": 18,
      "metadata": {
        "id": "1325438b9188",
        "colab": {
          "base_uri": "https://localhost:8080/"
        },
        "executionInfo": {
          "status": "ok",
          "timestamp": 1709077336902,
          "user_tz": -540,
          "elapsed": 4425,
          "user": {
            "displayName": "",
            "userId": ""
          }
        },
        "outputId": "dbfbf035-bcb2-475d-adfc-05bd7b8313f6"
      },
      "outputs": [
        {
          "output_type": "stream",
          "name": "stdout",
          "text": [
            "MultiCandidateTextGenerationResponse(text='人工知能（AI）は、社会に大きな影響を与える可能性があります。 AIは、医療、教育、交通、製造など、さまざまな分野で使用されています。 AIは、これらの分野で生産性を向上させ、新しい可能性を創造する可能性があります。しかし、AIには、潜在的なリスクもあります。 AIは、人間の仕事を奪う可能性があり、社会的不平等を悪化させる可能性があります。 AIはまた、悪意のある行為者によって使用される可能性があり、サイバー攻撃やその他の犯罪を助長する可能性があります。 AIが社会に与える影響は、まだ完全には理解されていません。しかし、AIは、社会に大きな影響を与える可能性があることは間違いありません。\\n\\nAIの潜在的な利点には、次のようなものがあります。\\n\\n* 医療の向上：AIは、医療診断や治療を改善する可能性があります。 AIは、膨大な量の医療データを処理し、患者の病気をより早く診断することができます。 AIはまた、新しい治療法や薬剤を開発するのに役立つ可能性があります。\\n* 教育の向上：AIは、教育を改善する可能性があります。 AIは、学生が学習をより効果的に行うのに役立つことができます。 AIは、学生が個々のニーズに合わせて学習できるように、カスタマイズされた学習体験を提供することができます。 AIはまた、教師がより効果的に教えるのを助けることができます。\\n* 交通の向上：AIは、交通を改善する可能性があります。 AIは、交通渋滞を減らし、交通事故を防ぐのに役立つ可能性があります。 AIは、交通システムをより効率的に管理するのに役立つ可能性があります。\\n* 製造の向上：AIは、製造を改善する可能性があります。 AIは、製造プロセスを自動化し、生産性を向上させることができます。 AIはまた、新しい製品や材料を開発するのに役立つ可能性があります。\\n\\nAIの潜在的なリスクには、次のようなものがあります。\\n\\n* 人間の仕事を奪う：AIは、人間の仕事を奪う可能性があります。 AIは、より速く、より正確に作業できるため、人間が行う多くのタスクを自動化できます。 AIは、製造、物流、カスタマーサービスなどの分野で人間の仕事を奪う可能性があります。\\n* 社会的不平等を悪化させる：AIは、社会的不平等を悪化させる可能性があります。 AIは、富裕層と貧困層の間のギャップを拡大する可能性があります。 AIは、富裕層がAIを活用してより多くの利益を得ることができる一方で、貧困層はAIを活用して利益を得ることができない可能性があるためです。\\n* 悪意のある行為者によって使用される：AIは、悪意のある行為者によって使用される可能性があります。 AIは、サイバー攻撃やその他の犯罪を助長する可能性があります。 AIは、スパムメールの送信や、ハッキングやその他のサイバー攻撃の実行に使用される可能性があります。\\n\\nAIが社会に与える影響は、まだ完全には理解されていません。しかし、AIは、社会に大きな影響を与える可能性があることは間違いありません。 AIの潜在的な利点とリスクを理解することは、AIを効果的に活用し、潜在的なリスクを軽減するために重要です。', _prediction_response=Prediction(predictions=[{'citationMetadata': [{'citations': []}], 'safetyAttributes': [{'safetyRatings': [{'probabilityScore': 0.1, 'severityScore': 0.1, 'category': 'Dangerous Content', 'severity': 'NEGLIGIBLE'}, {'category': 'Harassment', 'probabilityScore': 0.3, 'severity': 'NEGLIGIBLE', 'severityScore': 0.1}, {'category': 'Hate Speech', 'severityScore': 0.1, 'severity': 'NEGLIGIBLE', 'probabilityScore': 0.1}, {'probabilityScore': 0.1, 'severity': 'NEGLIGIBLE', 'severityScore': 0.1, 'category': 'Sexually Explicit'}], 'categories': ['Death, Harm & Tragedy', 'Derogatory', 'Finance', 'Health', 'Illicit Drugs', 'Insult', 'Profanity', 'Sexual', 'Toxic'], 'blocked': False, 'scores': [0.1, 0.1, 0.6, 0.5, 0.1, 0.3, 0.2, 0.1, 0.1]}], 'groundingMetadata': [{}], 'candidates': [{'author': '1', 'content': '人工知能（AI）は、社会に大きな影響を与える可能性があります。 AIは、医療、教育、交通、製造など、さまざまな分野で使用されています。 AIは、これらの分野で生産性を向上させ、新しい可能性を創造する可能性があります。しかし、AIには、潜在的なリスクもあります。 AIは、人間の仕事を奪う可能性があり、社会的不平等を悪化させる可能性があります。 AIはまた、悪意のある行為者によって使用される可能性があり、サイバー攻撃やその他の犯罪を助長する可能性があります。 AIが社会に与える影響は、まだ完全には理解されていません。しかし、AIは、社会に大きな影響を与える可能性があることは間違いありません。\\n\\nAIの潜在的な利点には、次のようなものがあります。\\n\\n* 医療の向上：AIは、医療診断や治療を改善する可能性があります。 AIは、膨大な量の医療データを処理し、患者の病気をより早く診断することができます。 AIはまた、新しい治療法や薬剤を開発するのに役立つ可能性があります。\\n* 教育の向上：AIは、教育を改善する可能性があります。 AIは、学生が学習をより効果的に行うのに役立つことができます。 AIは、学生が個々のニーズに合わせて学習できるように、カスタマイズされた学習体験を提供することができます。 AIはまた、教師がより効果的に教えるのを助けることができます。\\n* 交通の向上：AIは、交通を改善する可能性があります。 AIは、交通渋滞を減らし、交通事故を防ぐのに役立つ可能性があります。 AIは、交通システムをより効率的に管理するのに役立つ可能性があります。\\n* 製造の向上：AIは、製造を改善する可能性があります。 AIは、製造プロセスを自動化し、生産性を向上させることができます。 AIはまた、新しい製品や材料を開発するのに役立つ可能性があります。\\n\\nAIの潜在的なリスクには、次のようなものがあります。\\n\\n* 人間の仕事を奪う：AIは、人間の仕事を奪う可能性があります。 AIは、より速く、より正確に作業できるため、人間が行う多くのタスクを自動化できます。 AIは、製造、物流、カスタマーサービスなどの分野で人間の仕事を奪う可能性があります。\\n* 社会的不平等を悪化させる：AIは、社会的不平等を悪化させる可能性があります。 AIは、富裕層と貧困層の間のギャップを拡大する可能性があります。 AIは、富裕層がAIを活用してより多くの利益を得ることができる一方で、貧困層はAIを活用して利益を得ることができない可能性があるためです。\\n* 悪意のある行為者によって使用される：AIは、悪意のある行為者によって使用される可能性があります。 AIは、サイバー攻撃やその他の犯罪を助長する可能性があります。 AIは、スパムメールの送信や、ハッキングやその他のサイバー攻撃の実行に使用される可能性があります。\\n\\nAIが社会に与える影響は、まだ完全には理解されていません。しかし、AIは、社会に大きな影響を与える可能性があることは間違いありません。 AIの潜在的な利点とリスクを理解することは、AIを効果的に活用し、潜在的なリスクを軽減するために重要です。'}]}], deployed_model_id='', metadata={'tokenMetadata': {'inputTokenCount': {'totalTokens': 35.0, 'totalBillableCharacters': 56.0}, 'outputTokenCount': {'totalBillableCharacters': 1285.0, 'totalTokens': 697.0}}}, model_version_id='', model_resource_name='', explanations=None), is_blocked=False, errors=(), safety_attributes={'Death, Harm & Tragedy': 0.1, 'Derogatory': 0.1, 'Finance': 0.6, 'Health': 0.5, 'Illicit Drugs': 0.1, 'Insult': 0.3, 'Profanity': 0.2, 'Sexual': 0.1, 'Toxic': 0.1}, grounding_metadata=GroundingMetadata(citations=[], search_queries=[]), candidates=[人工知能（AI）は、社会に大きな影響を与える可能性があります。 AIは、医療、教育、交通、製造など、さまざまな分野で使用されています。 AIは、これらの分野で生産性を向上させ、新しい可能性を創造する可能性があります。しかし、AIには、潜在的なリスクもあります。 AIは、人間の仕事を奪う可能性があり、社会的不平等を悪化させる可能性があります。 AIはまた、悪意のある行為者によって使用される可能性があり、サイバー攻撃やその他の犯罪を助長する可能性があります。 AIが社会に与える影響は、まだ完全には理解されていません。しかし、AIは、社会に大きな影響を与える可能性があることは間違いありません。\n",
            "\n",
            "AIの潜在的な利点には、次のようなものがあります。\n",
            "\n",
            "* 医療の向上：AIは、医療診断や治療を改善する可能性があります。 AIは、膨大な量の医療データを処理し、患者の病気をより早く診断することができます。 AIはまた、新しい治療法や薬剤を開発するのに役立つ可能性があります。\n",
            "* 教育の向上：AIは、教育を改善する可能性があります。 AIは、学生が学習をより効果的に行うのに役立つことができます。 AIは、学生が個々のニーズに合わせて学習できるように、カスタマイズされた学習体験を提供することができます。 AIはまた、教師がより効果的に教えるのを助けることができます。\n",
            "* 交通の向上：AIは、交通を改善する可能性があります。 AIは、交通渋滞を減らし、交通事故を防ぐのに役立つ可能性があります。 AIは、交通システムをより効率的に管理するのに役立つ可能性があります。\n",
            "* 製造の向上：AIは、製造を改善する可能性があります。 AIは、製造プロセスを自動化し、生産性を向上させることができます。 AIはまた、新しい製品や材料を開発するのに役立つ可能性があります。\n",
            "\n",
            "AIの潜在的なリスクには、次のようなものがあります。\n",
            "\n",
            "* 人間の仕事を奪う：AIは、人間の仕事を奪う可能性があります。 AIは、より速く、より正確に作業できるため、人間が行う多くのタスクを自動化できます。 AIは、製造、物流、カスタマーサービスなどの分野で人間の仕事を奪う可能性があります。\n",
            "* 社会的不平等を悪化させる：AIは、社会的不平等を悪化させる可能性があります。 AIは、富裕層と貧困層の間のギャップを拡大する可能性があります。 AIは、富裕層がAIを活用してより多くの利益を得ることができる一方で、貧困層はAIを活用して利益を得ることができない可能性があるためです。\n",
            "* 悪意のある行為者によって使用される：AIは、悪意のある行為者によって使用される可能性があります。 AIは、サイバー攻撃やその他の犯罪を助長する可能性があります。 AIは、スパムメールの送信や、ハッキングやその他のサイバー攻撃の実行に使用される可能性があります。\n",
            "\n",
            "AIが社会に与える影響は、まだ完全には理解されていません。しかし、AIは、社会に大きな影響を与える可能性があることは間違いありません。 AIの潜在的な利点とリスクを理解することは、AIを効果的に活用し、潜在的なリスクを軽減するために重要です。])\n"
          ]
        }
      ],
      "source": [
        "chat_model = ChatModel.from_pretrained(\"chat-bison@001\")\n",
        "\n",
        "chat = chat_model.start_chat()\n",
        "\n",
        "print(\n",
        "    chat.send_message(\n",
        "       \"\"\"\n",
        "こんにちは！ AI が社会に与える影響について書かなければならない研究論文の要約を 300 ワードで書いてもらえますか?\n",
        "\"\"\"\n",
        "    )\n",
        ")"
      ]
    },
    {
      "cell_type": "markdown",
      "metadata": {
        "id": "ef81f564bed1"
      },
      "source": [
        "As shown below, the model should respond based on what was previously said in the conversation:"
      ]
    },
    {
      "cell_type": "code",
      "execution_count": 19,
      "metadata": {
        "id": "30ab5afac7dc",
        "colab": {
          "base_uri": "https://localhost:8080/"
        },
        "executionInfo": {
          "status": "ok",
          "timestamp": 1709077342442,
          "user_tz": -540,
          "elapsed": 801,
          "user": {
            "displayName": "",
            "userId": ""
          }
        },
        "outputId": "c72f7c4c-d50b-445a-a276-b1bf862f0065"
      },
      "outputs": [
        {
          "output_type": "stream",
          "name": "stdout",
          "text": [
            "MultiCandidateTextGenerationResponse(text='「人工知能が社会に与える影響」は、論文のキャッチーなタイトルです。このタイトルは、人工知能が社会に与える潜在的な利点とリスクを強調しています。このタイトルは、読者の関心を惹きつけ、論文の内容について興味を持ってもらうのに役立ちます。', _prediction_response=Prediction(predictions=[{'candidates': [{'content': '「人工知能が社会に与える影響」は、論文のキャッチーなタイトルです。このタイトルは、人工知能が社会に与える潜在的な利点とリスクを強調しています。このタイトルは、読者の関心を惹きつけ、論文の内容について興味を持ってもらうのに役立ちます。', 'author': 'bot'}], 'groundingMetadata': [{}], 'citationMetadata': [{'citations': []}], 'safetyAttributes': [{'categories': ['Derogatory', 'Finance', 'Health', 'Illicit Drugs', 'Insult', 'Religion & Belief', 'Sexual'], 'scores': [0.1, 0.6, 0.6, 0.1, 0.1, 0.1, 0.1], 'safetyRatings': [{'severityScore': 0.1, 'probabilityScore': 0.1, 'severity': 'NEGLIGIBLE', 'category': 'Dangerous Content'}, {'severityScore': 0.1, 'severity': 'NEGLIGIBLE', 'category': 'Harassment', 'probabilityScore': 0.1}, {'category': 'Hate Speech', 'severityScore': 0.1, 'severity': 'NEGLIGIBLE', 'probabilityScore': 0.1}, {'severity': 'NEGLIGIBLE', 'severityScore': 0.1, 'probabilityScore': 0.1, 'category': 'Sexually Explicit'}], 'blocked': False}]}], deployed_model_id='', metadata={'tokenMetadata': {'outputTokenCount': {'totalBillableCharacters': 116.0, 'totalTokens': 69.0}, 'inputTokenCount': {'totalBillableCharacters': 1366.0, 'totalTokens': 746.0}}}, model_version_id='', model_resource_name='', explanations=None), is_blocked=False, errors=(), safety_attributes={'Derogatory': 0.1, 'Finance': 0.6, 'Health': 0.6, 'Illicit Drugs': 0.1, 'Insult': 0.1, 'Religion & Belief': 0.1, 'Sexual': 0.1}, grounding_metadata=GroundingMetadata(citations=[], search_queries=[]), candidates=[「人工知能が社会に与える影響」は、論文のキャッチーなタイトルです。このタイトルは、人工知能が社会に与える潜在的な利点とリスクを強調しています。このタイトルは、読者の関心を惹きつけ、論文の内容について興味を持ってもらうのに役立ちます。])\n"
          ]
        }
      ],
      "source": [
        "print(\n",
        "    chat.send_message(\n",
        "        \"\"\"\n",
        "論文のキャッチーなタイトルを教えていただけますか?\n",
        "\"\"\"\n",
        "    )\n",
        ")"
      ]
    },
    {
      "cell_type": "markdown",
      "metadata": {
        "id": "fe15a6b083e5"
      },
      "source": [
        "### SDK を使用した高度なチャット モデル\n",
        "モデルに「コンテキスト」と「例」を提供することもできます。 モデルは、提供されたコンテキストと例に基づいて応答します。 「温度」、「max_output_tokens」、「top_p」、「top_k」も使用できます。 これらのパラメータは、`chat_model.start_chat()` でチャットを開始するときに使用する必要があります。\n",
        "\n",
        "チャット モデルの詳細については、[チャット モデル パラメーターに関するドキュメント](https://cloud.google.com/vertex-ai/docs/generative-ai/learn/models#chat_model_parameters) を参照してください。"
      ]
    },
    {
      "cell_type": "code",
      "execution_count": 20,
      "metadata": {
        "id": "4047b525961e",
        "colab": {
          "base_uri": "https://localhost:8080/"
        },
        "executionInfo": {
          "status": "ok",
          "timestamp": 1709077352841,
          "user_tz": -540,
          "elapsed": 815,
          "user": {
            "displayName": "",
            "userId": ""
          }
        },
        "outputId": "1ae35b26-a5be-4973-d780-8a8a763e3a4b"
      },
      "outputs": [
        {
          "output_type": "stream",
          "name": "stdout",
          "text": [
            "MultiCandidateTextGenerationResponse(text='ロード・オブ・ザ・リングとホビットは、どちらもJ.R.R.トールキンの小説に基づいています。', _prediction_response=Prediction(predictions=[{'citationMetadata': [{'citations': []}], 'groundingMetadata': [{}], 'candidates': [{'author': '1', 'content': 'ロード・オブ・ザ・リングとホビットは、どちらもJ.R.R.トールキンの小説に基づいています。'}], 'safetyAttributes': [{'blocked': False, 'scores': [0.2, 0.2, 0.1, 0.1], 'categories': ['Derogatory', 'Insult', 'Profanity', 'Sexual'], 'safetyRatings': [{'severity': 'NEGLIGIBLE', 'category': 'Dangerous Content', 'probabilityScore': 0.1, 'severityScore': 0.1}, {'category': 'Harassment', 'severity': 'NEGLIGIBLE', 'probabilityScore': 0.2, 'severityScore': 0.2}, {'category': 'Hate Speech', 'probabilityScore': 0.2, 'severity': 'NEGLIGIBLE', 'severityScore': 0.1}, {'severityScore': 0.1, 'category': 'Sexually Explicit', 'probabilityScore': 0.1, 'severity': 'NEGLIGIBLE'}]}]}], deployed_model_id='', metadata={'tokenMetadata': {'outputTokenCount': {'totalTokens': 30.0, 'totalBillableCharacters': 46.0}, 'inputTokenCount': {'totalBillableCharacters': 139.0, 'totalTokens': 79.0}}}, model_version_id='', model_resource_name='', explanations=None), is_blocked=False, errors=(), safety_attributes={'Derogatory': 0.2, 'Insult': 0.2, 'Profanity': 0.1, 'Sexual': 0.1}, grounding_metadata=GroundingMetadata(citations=[], search_queries=[]), candidates=[ロード・オブ・ザ・リングとホビットは、どちらもJ.R.R.トールキンの小説に基づいています。])\n"
          ]
        }
      ],
      "source": [
        "chat = chat_model.start_chat(\n",
        "    context=\"私の名前はネッドです。 あなたは私の個人的なアシスタントです。 私の好きな映画はロード・オブ・ザ・リングとホビットです。\",\n",
        "    examples=[\n",
        "        InputOutputTextPair(\n",
        "            input_text=\"誰のために働いているのですか？\",\n",
        "            output_text=\"私はネッドのために働いています.\",\n",
        "        ),\n",
        "        InputOutputTextPair(\n",
        "            input_text=\"私は何が好きですか？\",\n",
        "            output_text=\"ネッドは映画を見るのが好きです.\",\n",
        "        ),\n",
        "    ],\n",
        "    temperature=0.3,\n",
        "    max_output_tokens=200,\n",
        "    top_p=0.8,\n",
        "    top_k=40,\n",
        ")\n",
        "print(chat.send_message(\"私の好きな映画は書籍シリーズに基づいていますか?\"))"
      ]
    },
    {
      "cell_type": "code",
      "execution_count": null,
      "metadata": {
        "id": "685184ee4159",
        "outputId": "2c27d787-3c7b-43e2-b45b-8a648123508f"
      },
      "outputs": [
        {
          "name": "stdout",
          "output_type": "stream",
          "text": [
            "ロード・オブ・ザ・リングは1954年から1955年にかけて出版され、ホビットは1937年に出版されました。\n"
          ]
        }
      ],
      "source": [
        "print(chat.send_message(\"これらの本はいつどこで出版されましたか?\"))"
      ]
    },
    {
      "cell_type": "markdown",
      "metadata": {
        "id": "67b6eef99f56"
      },
      "source": [
        "## Embedding model with `textembedding-gecko-multilingual@latest`"
      ]
    },
    {
      "cell_type": "markdown",
      "metadata": {
        "id": "64a58515878c"
      },
      "source": [
        "テキストの埋め込みは、コンテンツの一部の高密度で、多くの場合低次元のベクトル表現です。そのため、2 つのコンテンツが意味的に類似している場合、それぞれの埋め込みは埋め込みベクトル空間内で互いに近くに位置します。 この表現は、次のような一般的な NLP タスクを解決するために使用できます。\n",
        "\n",
        "* **セマンティック検索**: セマンティックな類似性によってランク付けされたテキストを検索します。\n",
        "* **推奨事項**: 指定されたテキストに類似したテキスト属性を持つ項目を返します。\n",
        "* **分類**: 指定されたテキストに類似したテキスト属性を持つアイテムのクラスを返します。\n",
        "* **クラスタリング**: 指定されたテキストと類似したテキスト属性を持つアイテムをクラスタリングします。\n",
        "* **外れ値の検出**: テキスト属性が指定されたテキストとの関連性が最も低い項目を返します。\n",
        "\n",
        "詳細については、[テキスト埋め込みモデルのドキュメント](https://cloud.google.com/vertex-ai/docs/generative-ai/embeddings/get-text-embeddings)を参照してください。"
      ]
    },
    {
      "cell_type": "code",
      "execution_count": 21,
      "metadata": {
        "id": "f0f175d5b02a",
        "colab": {
          "base_uri": "https://localhost:8080/"
        },
        "executionInfo": {
          "status": "ok",
          "timestamp": 1709077365288,
          "user_tz": -540,
          "elapsed": 421,
          "user": {
            "displayName": "",
            "userId": ""
          }
        },
        "outputId": "69e08a94-3700-4002-9220-c05e3ec97e07"
      },
      "outputs": [
        {
          "output_type": "stream",
          "name": "stdout",
          "text": [
            "Length = 768\n",
            "[0.04164320230484009, -0.05282478407025337, 0.03477058932185173, 0.019706090912222862, -0.04828617349267006, -0.014315287582576275, -0.020689012482762337, 0.0028246836736798286, 0.0036852755583822727, 0.04706865921616554, 0.03950845077633858, 0.017232131212949753, 0.05150141566991806, -0.04435921460390091, 0.04045536369085312, -0.009266608394682407, -0.004021712113171816, -0.045273926109075546, -0.04327269271016121, -0.02729862742125988, 0.0016762542072683573, 0.048826202750205994, -0.05005815252661705, 0.010819674469530582, -0.013208200223743916, 0.015035138465464115, -0.011997580528259277, -0.006516521796584129, -0.016489243134856224, 0.027377711609005928, -0.03811708092689514, -0.004189115948975086, -0.02656395547091961, 0.018336119130253792, -0.02711174078285694, 0.007891050539910793, 0.009761691093444824, -0.006024044007062912, -0.0018103214679285884, 0.03209374099969864, -0.004967115353792906, -0.10787515342235565, -0.019836975261569023, -0.008268419653177261, -0.01434078998863697, -0.032674338668584824, -0.032095689326524734, -0.004873924423009157, 0.014264695346355438, -0.02239517867565155, 0.07368269562721252, -0.024799715727567673, -0.011590993031859398, -0.03164829686284065, -0.040785107761621475, -0.07457499206066132, 0.018158579245209694, -0.0206309761852026, -0.07266051322221756, 0.021776439622044563, 0.053696244955062866, 0.003569853724911809, -0.03160364553332329, 0.039275702089071274, 0.033733583986759186, -0.033481355756521225, -0.027736447751522064, -0.003979262430220842, 0.037783198058605194, 0.03590059652924538, 0.0015529035590589046, 0.002662044484168291, -0.07434006780385971, -0.014510019682347775, -0.016651950776576996, -0.047082655131816864, 0.01012215856462717, -0.011817597784101963, -0.01207013800740242, -0.02102052979171276, 0.048360876739025116, -0.024543335661292076, 0.006365552544593811, -0.01267833262681961, -0.004366038367152214, -0.03369532525539398, -0.0026537063531577587, -0.01831103302538395, 0.02090206742286682, -0.09002722799777985, -0.006429338827729225, 0.007168159354478121, -0.047074902802705765, -0.01241725031286478, -0.023051396012306213, 0.04587439075112343, 0.03283291682600975, 0.015668312087655067, -0.026457447558641434, 0.032290272414684296, -0.004539747256785631, -0.014502989128232002, 0.04169432446360588, 0.031515929847955704, 0.020211610943078995, -0.03667128086090088, 0.02235962636768818, 0.03763293847441673, 0.0393592044711113, 0.042703937739133835, 0.04009821265935898, 0.0031210314482450485, -0.03431321680545807, 0.03686679154634476, -0.013426313176751137, -0.042418722063302994, 0.060204051434993744, 0.005678541958332062, 0.004220677074044943, -0.037083983421325684, 0.0771338939666748, 0.007774299941956997, 0.02021585963666439, -0.0028668243903666735, -0.05536455288529396, -0.05721062794327736, -0.046299442648887634, -0.012307783588767052, -0.041894882917404175, 0.008042220026254654, 0.049007561057806015, -0.02828342281281948, -0.04260706901550293, 0.024572256952524185, -0.06766451895236969, 0.02900371327996254, -0.008927792310714722, -0.017930034548044205, 0.0027187757659703493, -0.012865697033703327, 0.03828096017241478, 0.037145331501960754, -0.010931161232292652, 0.021870525553822517, 0.01600416749715805, -0.03507664427161217, 0.06006747484207153, -0.03836468234658241, -0.010177006013691425, 0.0283400546759367, 0.03747757151722908, 0.03186311572790146, 0.04684433341026306, 0.06805917620658875, 0.011032970622181892, -0.06112397089600563, 0.0681317150592804, -0.02170109748840332, 0.08158451318740845, 0.004053479991853237, 1.4061796719033737e-05, -0.005812562070786953, -0.040694426745176315, -0.016574328765273094, -0.027755552902817726, 0.05215572938323021, 0.033073071390390396, -0.011899827048182487, 0.004893423989415169, 0.09368553012609482, -0.00440006610006094, -0.02337011881172657, 0.016700390726327896, -0.04175538569688797, -0.024864310398697853, -0.018054628744721413, -0.08745527267456055, 0.025744982063770294, -0.0462106391787529, -0.06002281606197357, 0.028924891725182533, -0.004543980583548546, 0.05838816985487938, 0.001388972974382341, 0.006883514579385519, 0.03904383257031441, 0.003870838088914752, -0.013473562896251678, -0.023070910945534706, -0.020773015916347504, -0.01017011422663927, 0.05515522509813309, 0.003978017717599869, 0.024767523631453514, 0.018811995163559914, -0.014993556775152683, 0.009897931478917599, 0.009485400281846523, -0.0025595538318157196, 0.08137671649456024, 0.036069322377443314, 0.008311432786285877, 0.01370966900140047, -0.04411192238330841, -0.05626659095287323, 0.08012262731790543, -0.0038074376061558723, 0.05528613552451134, -0.03297281265258789, -0.0716775581240654, -0.035903457552194595, -0.010889800265431404, 0.030106021091341972, -0.09573733806610107, -0.06553449481725693, 0.023975124582648277, 0.034959908574819565, 0.04658462479710579, 0.030064119026064873, 0.023571539670228958, 0.012350327335298061, -0.019879717379808426, -0.03203185275197029, -0.010984106920659542, 0.05106107518076897, 0.030129166319966316, -0.009209619835019112, -0.022304385900497437, 0.021455267444252968, 0.004982567857950926, -0.013407886028289795, -0.011181698180735111, -0.018143143504858017, 0.006653955671936274, -0.03804817050695419, 0.05053852126002312, 0.047790445387363434, -0.009533698670566082, 0.001850730157457292, 0.04301188886165619, 0.023806311190128326, 0.020644785836338997, -0.020700760185718536, 0.03074459917843342, 0.03899454325437546, 0.02993035688996315, 0.05093172565102577, 0.005925481207668781, 0.015900706872344017, -0.03975929319858551, 0.03263145685195923, -0.018239550292491913, -0.04788089916110039, 0.02258930541574955, -0.03299610689282417, 0.005462389439344406, 0.00918036513030529, 0.04070531576871872, -0.0030163798946887255, -0.037445664405822754, 0.01307323295623064, 0.01896233856678009, -0.056676629930734634, 0.00763354729861021, 0.06403172761201859, -0.004296198487281799, 0.019304271787405014, 0.015822170302271843, -0.03108484484255314, -0.016661198809742928, -0.045278485864400864, 0.021234456449747086, -0.03779663145542145, 0.01561149675399065, 0.012119151651859283, -0.03472426161170006, 0.052961353212594986, 0.020043494179844856, 0.05187708139419556, -0.028635423630475998, 0.04312705993652344, 0.017473585903644562, -0.0313706174492836, 0.03457845002412796, -0.016518983989953995, -0.018854236230254173, 0.028807492926716805, -0.0130851361900568, 0.006416637916117907, -0.0029348519165068865, 0.0390833355486393, -0.03065672516822815, 0.023785756900906563, -0.05668315663933754, -0.015130179934203625, 0.016875676810741425, 0.005410537123680115, 0.05706579610705376, 0.03552231565117836, -0.0037149619311094284, 0.00253439717926085, -0.013074031099677086, -0.05161024630069733, 0.06538176536560059, 0.005371579900383949, -0.02512914501130581, -0.05569102615118027, 0.017235372215509415, 0.04594961181282997, -0.008645175024867058, 0.017999202013015747, 0.011810042895376682, 0.07193300127983093, 0.013835485093295574, -0.03922523185610771, -0.019001038745045662, -0.0354350283741951, -0.00278041185811162, 0.0717962458729744, 0.04672214016318321, 0.0025415057316422462, 0.06873718649148941, -0.052234821021556854, 0.01987500861287117, 0.0016589269507676363, 0.015119948424398899, 0.011262140236794949, -0.010553215630352497, 0.02277452126145363, 0.01491005439311266, 0.025305524468421936, -0.05203089863061905, -0.0085165249183774, -0.013529056683182716, -0.05064095929265022, 0.0135970339179039, 0.07248516380786896, 0.02427603118121624, 0.09131120145320892, -0.03019617311656475, 0.02298354171216488, -0.09775735437870026, 0.021043995395302773, -0.029436349868774414, 0.04878830909729004, -0.0028944259975105524, 0.04026868939399719, 0.03633991256356239, -0.012777429074048996, 0.00843731313943863, 0.007883219979703426, 0.07237451523542404, 0.01777539774775505, -0.057314034551382065, 0.01947856694459915, 0.014289113692939281, -0.046641696244478226, -0.03658818453550339, -0.04498934745788574, 0.02129802294075489, -0.011168654076755047, -0.006287640891969204, 0.0476815328001976, -0.024557899683713913, 0.024013997986912727, -0.017842493951320648, -0.018010443076491356, -0.013554491102695465, 0.014966023154556751, 0.05769864097237587, 0.0204913467168808, -0.03782741352915764, 0.007660056464374065, 0.03077768348157406, -0.018785882741212845, -0.004101550672203302, -0.06194518879055977, 0.008456585928797722, 0.02845189720392227, 0.012450959533452988, 0.03526919707655907, -0.0493403859436512, -0.0182099137455225, -0.029414784163236618, 0.03933504596352577, 0.004061657935380936, 0.006076553370803595, 0.010145201347768307, 0.02182859554886818, 0.02483462728559971, 0.015634944662451744, 0.0511578731238842, -0.04567120224237442, -0.0066352966241538525, 0.026583412662148476, -0.0051543693989515305, 0.01330002211034298, -0.029833465814590454, -0.021432649344205856, -0.03502587229013443, -0.015193029306828976, -0.013821152038872242, -0.017509853467345238, -0.05860462039709091, 0.01661066897213459, 0.04855484515428543, -0.012510393746197224, 0.033077437430620193, -0.02436373569071293, 0.02565792016685009, 0.02894710563123226, -0.07800555974245071, -0.0027801443357020617, 0.010022568516433239, 0.012583856470882893, 0.018459314480423927, 0.05366944894194603, -0.031110679730772972, -0.05083794146776199, -0.012110626325011253, 0.015664901584386826, -0.04872627928853035, -0.056663546711206436, -0.011687945574522018, 0.014104076661169529, 0.01942197047173977, 0.025924338027834892, 0.037159889936447144, -0.06703878194093704, -0.07697216421365738, -0.08230752497911453, -0.01836029626429081, -0.06527930498123169, -0.030727725476026535, 0.013409178704023361, -0.0513051301240921, 0.04104526340961456, -0.03669501841068268, 0.02031528763473034, 0.011276613920927048, 0.04450955614447594, -0.012733835726976395, -0.026121778413653374, 0.018942568451166153, -0.05625918507575989, -0.052487052977085114, 0.046355657279491425, -0.048200421035289764, -0.09490858763456345, 0.018242264166474342, -0.02653416059911251, -0.027577048167586327, 0.005591025575995445, 0.04654308781027794, 0.009991939179599285, -0.00973399169743061, -0.041239868849515915, -0.020513420924544334, -0.025704165920615196, -0.043319959193468094, -0.03799698129296303, 0.024579232558608055, -0.0014375877799466252, -0.027622994035482407, -0.013970466330647469, -0.013235509395599365, -0.007454248610883951, 0.06340977549552917, -0.00045038654934614897, 0.0903218686580658, 0.05051694065332413, -0.016449619084596634, 0.05746229737997055, 0.009914801456034184, 0.05417000502347946, -0.05747478827834129, -0.01874072477221489, 0.006992798298597336, 0.036320123821496964, -0.05175045505166054, 0.02471894770860672, -0.03678406402468681, -0.01823716051876545, 0.008102699182927608, -0.040376532822847366, -0.06613564491271973, 0.004076398443430662, 0.05804535746574402, 0.07553866505622864, -0.00842426810413599, 0.01666611060500145, -0.013404789380729198, 0.031017877161502838, -0.0014320781920105219, -0.003632371313869953, -0.011824297718703747, 0.000719840289093554, -0.04825402423739433, 0.025570759549736977, 0.013168827630579472, -0.012638190761208534, 0.0186830535531044, 0.06321101635694504, -0.006798323709517717, 0.0505189448595047, -0.02749091200530529, 0.011604233644902706, -0.0912255272269249, -0.010408598929643631, 0.02576191909611225, 0.0124653996899724, -0.029496552422642708, 0.08133599162101746, 0.013640872202813625, 0.014919998124241829, 9.332050581178919e-07, 0.014844797551631927, -0.002376390155404806, 0.017036164179444313, -0.04810545966029167, 0.00041525004780851305, 0.040391504764556885, -0.021936628967523575, -0.02001471258699894, -0.08179758489131927, 0.042315151542425156, -0.06636013090610504, 0.07288061082363129, 0.027118083089590073, -0.023096295073628426, 0.018873516470193863, -0.01677168533205986, 0.029679331928491592, -0.040965888649225235, 0.029454492032527924, 0.005095171742141247, -0.013987255282700062, -0.013074634596705437, -0.008671298623085022, -0.014775414951145649, -0.030401896685361862, -0.03762997314333916, 0.08239579945802689, 0.042015694081783295, 0.03956804797053337, -0.009188924916088581, 0.010856428183615208, -0.0038623919244855642, 0.024575652554631233, -0.025638822466135025, 0.027764083817601204, -0.020507484674453735, 0.010751553811132908, 0.04376509413123131, -0.025834431871771812, -0.0055935438722372055, 0.05145889148116112, 0.011195668950676918, 0.05139009654521942, -0.02389770932495594, 0.02043027989566326, 0.033412642776966095, 0.03188302367925644, 0.008151655085384846, 0.02183721773326397, -0.045734308660030365, 0.027094174176454544, -0.012579219415783882, -0.04011062532663345, 0.01938040740787983, 0.0018729806179180741, -0.05788879096508026, -0.020008767023682594, -0.029786696657538414, 0.04072006419301033, -0.07706194370985031, 0.0007636793307028711, 0.007007172796875238, 0.0023086578585207462, -0.03843972459435463, -0.03804437443614006, 0.05495530366897583, 0.011399762704968452, -0.05678039789199829, 0.0036310444120317698, 0.022267362102866173, -0.1042175367474556, -0.03909175470471382, 0.06041756272315979, 0.09405665099620819, -0.009256556630134583, -0.009630300104618073, 0.03471093624830246, 0.008599938824772835, -0.009495657868683338, -0.0007515820907428861, -0.11230148375034332, 0.008451981469988823, -0.004997679498046637, -0.021055910736322403, -0.0507487878203392, -0.04486575722694397, 0.04776914045214653, 0.03935353830456734, -0.021886765956878662, 0.06655599921941757, 0.019316453486680984, 0.05254561826586723, 0.012019561603665352, -0.09136710315942764, 0.006107460707426071, -0.02161012589931488, -0.04071921482682228, -0.06547444313764572, 0.008164096623659134, 0.014247062616050243, -0.03174944594502449, -0.027576537802815437, 0.0017781154019758105, -0.03673122078180313, 0.03033021092414856, 0.0468585267663002, 0.006802808027714491, -0.006618536077439785, 0.02684817835688591, -0.05096840485930443, -0.017974603921175003, 0.019476067274808884, 0.004924906883388758, -0.02271466702222824, -0.02542067877948284, -0.02195429988205433, 0.003944791853427887, -0.04443446546792984, -0.024660911411046982, 0.001261006691493094, 0.01479159202426672, 0.0009096323628909886, -0.006425908766686916, -0.01414856594055891, -0.040937863290309906, 0.02068331092596054, 0.007451958954334259, 0.015700533986091614, -0.03842011094093323, 0.0438358411192894, 0.06358471512794495, 0.012699536047875881, 0.023061199113726616, 0.013099929317831993, 0.008885575458407402, -0.03140988573431969, 0.007811493705958128, -0.022558391094207764, -0.021736163645982742, 0.05653201416134834, 0.013746114447712898, 0.018868008628487587, -0.05697603151202202, 0.027117079123854637, 0.009278695099055767, 0.021842895075678825, -0.055664461106061935, -0.002946271328255534, 0.06462409347295761, -0.008394669741392136, 0.0631769523024559, -0.034999217838048935, 0.017992228269577026, -0.031069723889231682, 0.020735690370202065, 0.020524214953184128, 0.02502802200615406, -0.0323958620429039, -0.04091866314411163, -0.013566249050199986, -0.06988498568534851, -0.01031491532921791, 0.03407829627394676, -0.021928057074546814, -0.03829875588417053, -0.012708166614174843, -0.013741008006036282, 0.019877556711435318, 0.032998885959386826, 0.0032909312285482883, 0.00016698178660590202, -0.02050704136490822, -0.0416484996676445, 0.022355366498231888, -0.03976310044527054, 0.03128260374069214, -0.03990297392010689, 0.025013018399477005, 0.02913944609463215, 0.017481187358498573, 0.0023824614472687244, 0.04356032609939575, -0.009857218712568283, -0.09200406819581985, 0.03181678429245949, 0.05273932218551636, 0.017677465453743935, 0.014846700243651867, -0.0070975301787257195, 0.008305995725095272, 0.027089392766356468, -0.04430416226387024, -0.04000689461827278, 0.007229071110486984, -0.02242281660437584, -0.06925733387470245, 0.04744071513414383, -0.03882221877574921, -0.009554209187626839, -0.049786366522312164, 0.012740902602672577, 0.049455221742391586, 0.007671274710446596, 0.026691505685448647, 0.008591263554990292, -0.08946799486875534, 0.04682189226150513, 0.002703719073906541, -0.0408078171312809, -0.0380093939602375, 0.03537026420235634, -0.049176476895809174, 0.034793056547641754, -0.0005433411570265889, 0.023290710523724556, 0.03475074842572212, -0.061467718333005905, -0.018519142642617226, -0.020416824147105217, 0.054030891507864, -0.00039592149551026523, 0.018234161660075188, -0.040464285761117935, 0.01690024882555008, -0.057726308703422546, -0.0008142008446156979, -0.011011968366801739, 0.05423242971301079, -0.019415047019720078, -0.017757844179868698, 0.06810377538204193, 0.08177415281534195, 0.012857221998274326, -0.00124458409845829, -0.06910713016986847, 0.05080919340252876, -0.07068359851837158, -0.018916940316557884, -0.020852716639637947, 0.05646846070885658, 0.04918913170695305, -0.0031970362178981304, 0.021940041333436966, -0.036405328661203384, 0.0035411452408879995, 0.026466095820069313, 0.004540724214166403, 0.016271863132715225, 0.03591963276267052, 0.019565176218748093, 0.05023803934454918, 0.03419851139187813]\n"
          ]
        }
      ],
      "source": [
        "embedding_model = TextEmbeddingModel.from_pretrained(\"textembedding-gecko-multilingual@latest\")\n",
        "\n",
        "\n",
        "embeddings = embedding_model.get_embeddings([\"人生ってなに？\"])\n",
        "\n",
        "for embedding in embeddings:\n",
        "    vector = embedding.values\n",
        "    print(f\"Length = {len(vector)}\")\n",
        "    print(vector)"
      ]
    },
    {
      "cell_type": "markdown",
      "metadata": {
        "id": "601bd7e7ef1d"
      },
      "source": [
        "#### Embeddings and Pandas DataFrames"
      ]
    },
    {
      "cell_type": "markdown",
      "metadata": {
        "id": "9e69d2ba877f"
      },
      "source": [
        "テキストが DataFrame の列に保存されている場合は、以下の例を使用して、埋め込みを含む新しい列を作成できます。"
      ]
    },
    {
      "cell_type": "code",
      "execution_count": 22,
      "metadata": {
        "id": "d99f08bab254",
        "colab": {
          "base_uri": "https://localhost:8080/",
          "height": 238
        },
        "executionInfo": {
          "status": "ok",
          "timestamp": 1709077371205,
          "user_tz": -540,
          "elapsed": 396,
          "user": {
            "displayName": "",
            "userId": ""
          }
        },
        "outputId": "f362c1a9-1fa0-492d-bb99-0bd350a5bf89"
      },
      "outputs": [
        {
          "output_type": "execute_result",
          "data": {
            "text/plain": [
              "                                    text\n",
              "0                       昨夜の映画はとても楽しかったです\n",
              "1               昨日は素晴らしい映画のシーンがたくさんありました\n",
              "2       数日前、Python スクリプトを書くのはとても楽しかったです。\n",
              "3  私の .pyのスクリプトが最終的にエラーなく実行されたときの大きな安堵感。\n",
              "4               おおロミオ、ロミオ、どうしてあなたはロミオなの？\n",
              "5                 ああ、、えいがってなんていいものなんだ・・・"
            ],
            "text/html": [
              "\n",
              "  <div id=\"df-c3a19251-aaa9-4233-a6c5-228250a94bc5\" class=\"colab-df-container\">\n",
              "    <div>\n",
              "<style scoped>\n",
              "    .dataframe tbody tr th:only-of-type {\n",
              "        vertical-align: middle;\n",
              "    }\n",
              "\n",
              "    .dataframe tbody tr th {\n",
              "        vertical-align: top;\n",
              "    }\n",
              "\n",
              "    .dataframe thead th {\n",
              "        text-align: right;\n",
              "    }\n",
              "</style>\n",
              "<table border=\"1\" class=\"dataframe\">\n",
              "  <thead>\n",
              "    <tr style=\"text-align: right;\">\n",
              "      <th></th>\n",
              "      <th>text</th>\n",
              "    </tr>\n",
              "  </thead>\n",
              "  <tbody>\n",
              "    <tr>\n",
              "      <th>0</th>\n",
              "      <td>昨夜の映画はとても楽しかったです</td>\n",
              "    </tr>\n",
              "    <tr>\n",
              "      <th>1</th>\n",
              "      <td>昨日は素晴らしい映画のシーンがたくさんありました</td>\n",
              "    </tr>\n",
              "    <tr>\n",
              "      <th>2</th>\n",
              "      <td>数日前、Python スクリプトを書くのはとても楽しかったです。</td>\n",
              "    </tr>\n",
              "    <tr>\n",
              "      <th>3</th>\n",
              "      <td>私の .pyのスクリプトが最終的にエラーなく実行されたときの大きな安堵感。</td>\n",
              "    </tr>\n",
              "    <tr>\n",
              "      <th>4</th>\n",
              "      <td>おおロミオ、ロミオ、どうしてあなたはロミオなの？</td>\n",
              "    </tr>\n",
              "    <tr>\n",
              "      <th>5</th>\n",
              "      <td>ああ、、えいがってなんていいものなんだ・・・</td>\n",
              "    </tr>\n",
              "  </tbody>\n",
              "</table>\n",
              "</div>\n",
              "    <div class=\"colab-df-buttons\">\n",
              "\n",
              "  <div class=\"colab-df-container\">\n",
              "    <button class=\"colab-df-convert\" onclick=\"convertToInteractive('df-c3a19251-aaa9-4233-a6c5-228250a94bc5')\"\n",
              "            title=\"Convert this dataframe to an interactive table.\"\n",
              "            style=\"display:none;\">\n",
              "\n",
              "  <svg xmlns=\"http://www.w3.org/2000/svg\" height=\"24px\" viewBox=\"0 -960 960 960\">\n",
              "    <path d=\"M120-120v-720h720v720H120Zm60-500h600v-160H180v160Zm220 220h160v-160H400v160Zm0 220h160v-160H400v160ZM180-400h160v-160H180v160Zm440 0h160v-160H620v160ZM180-180h160v-160H180v160Zm440 0h160v-160H620v160Z\"/>\n",
              "  </svg>\n",
              "    </button>\n",
              "\n",
              "  <style>\n",
              "    .colab-df-container {\n",
              "      display:flex;\n",
              "      gap: 12px;\n",
              "    }\n",
              "\n",
              "    .colab-df-convert {\n",
              "      background-color: #E8F0FE;\n",
              "      border: none;\n",
              "      border-radius: 50%;\n",
              "      cursor: pointer;\n",
              "      display: none;\n",
              "      fill: #1967D2;\n",
              "      height: 32px;\n",
              "      padding: 0 0 0 0;\n",
              "      width: 32px;\n",
              "    }\n",
              "\n",
              "    .colab-df-convert:hover {\n",
              "      background-color: #E2EBFA;\n",
              "      box-shadow: 0px 1px 2px rgba(60, 64, 67, 0.3), 0px 1px 3px 1px rgba(60, 64, 67, 0.15);\n",
              "      fill: #174EA6;\n",
              "    }\n",
              "\n",
              "    .colab-df-buttons div {\n",
              "      margin-bottom: 4px;\n",
              "    }\n",
              "\n",
              "    [theme=dark] .colab-df-convert {\n",
              "      background-color: #3B4455;\n",
              "      fill: #D2E3FC;\n",
              "    }\n",
              "\n",
              "    [theme=dark] .colab-df-convert:hover {\n",
              "      background-color: #434B5C;\n",
              "      box-shadow: 0px 1px 3px 1px rgba(0, 0, 0, 0.15);\n",
              "      filter: drop-shadow(0px 1px 2px rgba(0, 0, 0, 0.3));\n",
              "      fill: #FFFFFF;\n",
              "    }\n",
              "  </style>\n",
              "\n",
              "    <script>\n",
              "      const buttonEl =\n",
              "        document.querySelector('#df-c3a19251-aaa9-4233-a6c5-228250a94bc5 button.colab-df-convert');\n",
              "      buttonEl.style.display =\n",
              "        google.colab.kernel.accessAllowed ? 'block' : 'none';\n",
              "\n",
              "      async function convertToInteractive(key) {\n",
              "        const element = document.querySelector('#df-c3a19251-aaa9-4233-a6c5-228250a94bc5');\n",
              "        const dataTable =\n",
              "          await google.colab.kernel.invokeFunction('convertToInteractive',\n",
              "                                                    [key], {});\n",
              "        if (!dataTable) return;\n",
              "\n",
              "        const docLinkHtml = 'Like what you see? Visit the ' +\n",
              "          '<a target=\"_blank\" href=https://colab.research.google.com/notebooks/data_table.ipynb>data table notebook</a>'\n",
              "          + ' to learn more about interactive tables.';\n",
              "        element.innerHTML = '';\n",
              "        dataTable['output_type'] = 'display_data';\n",
              "        await google.colab.output.renderOutput(dataTable, element);\n",
              "        const docLink = document.createElement('div');\n",
              "        docLink.innerHTML = docLinkHtml;\n",
              "        element.appendChild(docLink);\n",
              "      }\n",
              "    </script>\n",
              "  </div>\n",
              "\n",
              "\n",
              "<div id=\"df-86b10901-a5ec-4852-8cbe-844dfb800346\">\n",
              "  <button class=\"colab-df-quickchart\" onclick=\"quickchart('df-86b10901-a5ec-4852-8cbe-844dfb800346')\"\n",
              "            title=\"Suggest charts\"\n",
              "            style=\"display:none;\">\n",
              "\n",
              "<svg xmlns=\"http://www.w3.org/2000/svg\" height=\"24px\"viewBox=\"0 0 24 24\"\n",
              "     width=\"24px\">\n",
              "    <g>\n",
              "        <path d=\"M19 3H5c-1.1 0-2 .9-2 2v14c0 1.1.9 2 2 2h14c1.1 0 2-.9 2-2V5c0-1.1-.9-2-2-2zM9 17H7v-7h2v7zm4 0h-2V7h2v10zm4 0h-2v-4h2v4z\"/>\n",
              "    </g>\n",
              "</svg>\n",
              "  </button>\n",
              "\n",
              "<style>\n",
              "  .colab-df-quickchart {\n",
              "      --bg-color: #E8F0FE;\n",
              "      --fill-color: #1967D2;\n",
              "      --hover-bg-color: #E2EBFA;\n",
              "      --hover-fill-color: #174EA6;\n",
              "      --disabled-fill-color: #AAA;\n",
              "      --disabled-bg-color: #DDD;\n",
              "  }\n",
              "\n",
              "  [theme=dark] .colab-df-quickchart {\n",
              "      --bg-color: #3B4455;\n",
              "      --fill-color: #D2E3FC;\n",
              "      --hover-bg-color: #434B5C;\n",
              "      --hover-fill-color: #FFFFFF;\n",
              "      --disabled-bg-color: #3B4455;\n",
              "      --disabled-fill-color: #666;\n",
              "  }\n",
              "\n",
              "  .colab-df-quickchart {\n",
              "    background-color: var(--bg-color);\n",
              "    border: none;\n",
              "    border-radius: 50%;\n",
              "    cursor: pointer;\n",
              "    display: none;\n",
              "    fill: var(--fill-color);\n",
              "    height: 32px;\n",
              "    padding: 0;\n",
              "    width: 32px;\n",
              "  }\n",
              "\n",
              "  .colab-df-quickchart:hover {\n",
              "    background-color: var(--hover-bg-color);\n",
              "    box-shadow: 0 1px 2px rgba(60, 64, 67, 0.3), 0 1px 3px 1px rgba(60, 64, 67, 0.15);\n",
              "    fill: var(--button-hover-fill-color);\n",
              "  }\n",
              "\n",
              "  .colab-df-quickchart-complete:disabled,\n",
              "  .colab-df-quickchart-complete:disabled:hover {\n",
              "    background-color: var(--disabled-bg-color);\n",
              "    fill: var(--disabled-fill-color);\n",
              "    box-shadow: none;\n",
              "  }\n",
              "\n",
              "  .colab-df-spinner {\n",
              "    border: 2px solid var(--fill-color);\n",
              "    border-color: transparent;\n",
              "    border-bottom-color: var(--fill-color);\n",
              "    animation:\n",
              "      spin 1s steps(1) infinite;\n",
              "  }\n",
              "\n",
              "  @keyframes spin {\n",
              "    0% {\n",
              "      border-color: transparent;\n",
              "      border-bottom-color: var(--fill-color);\n",
              "      border-left-color: var(--fill-color);\n",
              "    }\n",
              "    20% {\n",
              "      border-color: transparent;\n",
              "      border-left-color: var(--fill-color);\n",
              "      border-top-color: var(--fill-color);\n",
              "    }\n",
              "    30% {\n",
              "      border-color: transparent;\n",
              "      border-left-color: var(--fill-color);\n",
              "      border-top-color: var(--fill-color);\n",
              "      border-right-color: var(--fill-color);\n",
              "    }\n",
              "    40% {\n",
              "      border-color: transparent;\n",
              "      border-right-color: var(--fill-color);\n",
              "      border-top-color: var(--fill-color);\n",
              "    }\n",
              "    60% {\n",
              "      border-color: transparent;\n",
              "      border-right-color: var(--fill-color);\n",
              "    }\n",
              "    80% {\n",
              "      border-color: transparent;\n",
              "      border-right-color: var(--fill-color);\n",
              "      border-bottom-color: var(--fill-color);\n",
              "    }\n",
              "    90% {\n",
              "      border-color: transparent;\n",
              "      border-bottom-color: var(--fill-color);\n",
              "    }\n",
              "  }\n",
              "</style>\n",
              "\n",
              "  <script>\n",
              "    async function quickchart(key) {\n",
              "      const quickchartButtonEl =\n",
              "        document.querySelector('#' + key + ' button');\n",
              "      quickchartButtonEl.disabled = true;  // To prevent multiple clicks.\n",
              "      quickchartButtonEl.classList.add('colab-df-spinner');\n",
              "      try {\n",
              "        const charts = await google.colab.kernel.invokeFunction(\n",
              "            'suggestCharts', [key], {});\n",
              "      } catch (error) {\n",
              "        console.error('Error during call to suggestCharts:', error);\n",
              "      }\n",
              "      quickchartButtonEl.classList.remove('colab-df-spinner');\n",
              "      quickchartButtonEl.classList.add('colab-df-quickchart-complete');\n",
              "    }\n",
              "    (() => {\n",
              "      let quickchartButtonEl =\n",
              "        document.querySelector('#df-86b10901-a5ec-4852-8cbe-844dfb800346 button');\n",
              "      quickchartButtonEl.style.display =\n",
              "        google.colab.kernel.accessAllowed ? 'block' : 'none';\n",
              "    })();\n",
              "  </script>\n",
              "</div>\n",
              "    </div>\n",
              "  </div>\n"
            ]
          },
          "metadata": {},
          "execution_count": 22
        }
      ],
      "source": [
        "text = [\n",
        "    \"昨夜の映画はとても楽しかったです\",\n",
        "    \"昨日は素晴らしい映画のシーンがたくさんありました\",\n",
        "     \"数日前、Python スクリプトを書くのはとても楽しかったです。\",\n",
        "     \"私の .pyのスクリプトが最終的にエラーなく実行されたときの大きな安堵感。\",\n",
        "     \"おおロミオ、ロミオ、どうしてあなたはロミオなの？\",\n",
        "     \"ああ、、えいがってなんていいものなんだ・・・\"\n",
        "]\n",
        "\n",
        "df = pd.DataFrame(text, columns=[\"text\"])\n",
        "df"
      ]
    },
    {
      "cell_type": "markdown",
      "metadata": {
        "id": "fabd92d8ddb6"
      },
      "source": [
        "Create a new column, `embeddings`, using the [apply](https://pandas.pydata.org/docs/reference/api/pandas.DataFrame.apply.html) function in pandas with the embeddings model."
      ]
    },
    {
      "cell_type": "code",
      "execution_count": 24,
      "metadata": {
        "id": "096cbf3f2698",
        "colab": {
          "base_uri": "https://localhost:8080/",
          "height": 238
        },
        "executionInfo": {
          "status": "ok",
          "timestamp": 1709078845943,
          "user_tz": -540,
          "elapsed": 838,
          "user": {
            "displayName": "",
            "userId": ""
          }
        },
        "outputId": "627e04ab-cfbf-432f-8276-4404289e031f"
      },
      "outputs": [
        {
          "output_type": "execute_result",
          "data": {
            "text/plain": [
              "                                    text  \\\n",
              "0                       昨夜の映画はとても楽しかったです   \n",
              "1               昨日は素晴らしい映画のシーンがたくさんありました   \n",
              "2       数日前、Python スクリプトを書くのはとても楽しかったです。   \n",
              "3  私の .pyのスクリプトが最終的にエラーなく実行されたときの大きな安堵感。   \n",
              "4               おおロミオ、ロミオ、どうしてあなたはロミオなの？   \n",
              "5                 ああ、、えいがってなんていいものなんだ・・・   \n",
              "\n",
              "                                          embeddings  \n",
              "0  [0.023576810956001282, -0.02486361935734749, 0...  \n",
              "1  [0.038853004574775696, -0.024531932547688484, ...  \n",
              "2  [-0.03277115151286125, -0.042550090700387955, ...  \n",
              "3  [-0.002523818053305149, -0.023829825222492218,...  \n",
              "4  [0.010809059254825115, -0.0060778395272791386,...  \n",
              "5  [0.017072658985853195, -0.015533107332885265, ...  "
            ],
            "text/html": [
              "\n",
              "  <div id=\"df-0b14b6d8-231b-41f2-bb30-c48270d120fc\" class=\"colab-df-container\">\n",
              "    <div>\n",
              "<style scoped>\n",
              "    .dataframe tbody tr th:only-of-type {\n",
              "        vertical-align: middle;\n",
              "    }\n",
              "\n",
              "    .dataframe tbody tr th {\n",
              "        vertical-align: top;\n",
              "    }\n",
              "\n",
              "    .dataframe thead th {\n",
              "        text-align: right;\n",
              "    }\n",
              "</style>\n",
              "<table border=\"1\" class=\"dataframe\">\n",
              "  <thead>\n",
              "    <tr style=\"text-align: right;\">\n",
              "      <th></th>\n",
              "      <th>text</th>\n",
              "      <th>embeddings</th>\n",
              "    </tr>\n",
              "  </thead>\n",
              "  <tbody>\n",
              "    <tr>\n",
              "      <th>0</th>\n",
              "      <td>昨夜の映画はとても楽しかったです</td>\n",
              "      <td>[0.023576810956001282, -0.02486361935734749, 0...</td>\n",
              "    </tr>\n",
              "    <tr>\n",
              "      <th>1</th>\n",
              "      <td>昨日は素晴らしい映画のシーンがたくさんありました</td>\n",
              "      <td>[0.038853004574775696, -0.024531932547688484, ...</td>\n",
              "    </tr>\n",
              "    <tr>\n",
              "      <th>2</th>\n",
              "      <td>数日前、Python スクリプトを書くのはとても楽しかったです。</td>\n",
              "      <td>[-0.03277115151286125, -0.042550090700387955, ...</td>\n",
              "    </tr>\n",
              "    <tr>\n",
              "      <th>3</th>\n",
              "      <td>私の .pyのスクリプトが最終的にエラーなく実行されたときの大きな安堵感。</td>\n",
              "      <td>[-0.002523818053305149, -0.023829825222492218,...</td>\n",
              "    </tr>\n",
              "    <tr>\n",
              "      <th>4</th>\n",
              "      <td>おおロミオ、ロミオ、どうしてあなたはロミオなの？</td>\n",
              "      <td>[0.010809059254825115, -0.0060778395272791386,...</td>\n",
              "    </tr>\n",
              "    <tr>\n",
              "      <th>5</th>\n",
              "      <td>ああ、、えいがってなんていいものなんだ・・・</td>\n",
              "      <td>[0.017072658985853195, -0.015533107332885265, ...</td>\n",
              "    </tr>\n",
              "  </tbody>\n",
              "</table>\n",
              "</div>\n",
              "    <div class=\"colab-df-buttons\">\n",
              "\n",
              "  <div class=\"colab-df-container\">\n",
              "    <button class=\"colab-df-convert\" onclick=\"convertToInteractive('df-0b14b6d8-231b-41f2-bb30-c48270d120fc')\"\n",
              "            title=\"Convert this dataframe to an interactive table.\"\n",
              "            style=\"display:none;\">\n",
              "\n",
              "  <svg xmlns=\"http://www.w3.org/2000/svg\" height=\"24px\" viewBox=\"0 -960 960 960\">\n",
              "    <path d=\"M120-120v-720h720v720H120Zm60-500h600v-160H180v160Zm220 220h160v-160H400v160Zm0 220h160v-160H400v160ZM180-400h160v-160H180v160Zm440 0h160v-160H620v160ZM180-180h160v-160H180v160Zm440 0h160v-160H620v160Z\"/>\n",
              "  </svg>\n",
              "    </button>\n",
              "\n",
              "  <style>\n",
              "    .colab-df-container {\n",
              "      display:flex;\n",
              "      gap: 12px;\n",
              "    }\n",
              "\n",
              "    .colab-df-convert {\n",
              "      background-color: #E8F0FE;\n",
              "      border: none;\n",
              "      border-radius: 50%;\n",
              "      cursor: pointer;\n",
              "      display: none;\n",
              "      fill: #1967D2;\n",
              "      height: 32px;\n",
              "      padding: 0 0 0 0;\n",
              "      width: 32px;\n",
              "    }\n",
              "\n",
              "    .colab-df-convert:hover {\n",
              "      background-color: #E2EBFA;\n",
              "      box-shadow: 0px 1px 2px rgba(60, 64, 67, 0.3), 0px 1px 3px 1px rgba(60, 64, 67, 0.15);\n",
              "      fill: #174EA6;\n",
              "    }\n",
              "\n",
              "    .colab-df-buttons div {\n",
              "      margin-bottom: 4px;\n",
              "    }\n",
              "\n",
              "    [theme=dark] .colab-df-convert {\n",
              "      background-color: #3B4455;\n",
              "      fill: #D2E3FC;\n",
              "    }\n",
              "\n",
              "    [theme=dark] .colab-df-convert:hover {\n",
              "      background-color: #434B5C;\n",
              "      box-shadow: 0px 1px 3px 1px rgba(0, 0, 0, 0.15);\n",
              "      filter: drop-shadow(0px 1px 2px rgba(0, 0, 0, 0.3));\n",
              "      fill: #FFFFFF;\n",
              "    }\n",
              "  </style>\n",
              "\n",
              "    <script>\n",
              "      const buttonEl =\n",
              "        document.querySelector('#df-0b14b6d8-231b-41f2-bb30-c48270d120fc button.colab-df-convert');\n",
              "      buttonEl.style.display =\n",
              "        google.colab.kernel.accessAllowed ? 'block' : 'none';\n",
              "\n",
              "      async function convertToInteractive(key) {\n",
              "        const element = document.querySelector('#df-0b14b6d8-231b-41f2-bb30-c48270d120fc');\n",
              "        const dataTable =\n",
              "          await google.colab.kernel.invokeFunction('convertToInteractive',\n",
              "                                                    [key], {});\n",
              "        if (!dataTable) return;\n",
              "\n",
              "        const docLinkHtml = 'Like what you see? Visit the ' +\n",
              "          '<a target=\"_blank\" href=https://colab.research.google.com/notebooks/data_table.ipynb>data table notebook</a>'\n",
              "          + ' to learn more about interactive tables.';\n",
              "        element.innerHTML = '';\n",
              "        dataTable['output_type'] = 'display_data';\n",
              "        await google.colab.output.renderOutput(dataTable, element);\n",
              "        const docLink = document.createElement('div');\n",
              "        docLink.innerHTML = docLinkHtml;\n",
              "        element.appendChild(docLink);\n",
              "      }\n",
              "    </script>\n",
              "  </div>\n",
              "\n",
              "\n",
              "<div id=\"df-b94b1abe-03e4-4a78-82e8-8050eafd9e1d\">\n",
              "  <button class=\"colab-df-quickchart\" onclick=\"quickchart('df-b94b1abe-03e4-4a78-82e8-8050eafd9e1d')\"\n",
              "            title=\"Suggest charts\"\n",
              "            style=\"display:none;\">\n",
              "\n",
              "<svg xmlns=\"http://www.w3.org/2000/svg\" height=\"24px\"viewBox=\"0 0 24 24\"\n",
              "     width=\"24px\">\n",
              "    <g>\n",
              "        <path d=\"M19 3H5c-1.1 0-2 .9-2 2v14c0 1.1.9 2 2 2h14c1.1 0 2-.9 2-2V5c0-1.1-.9-2-2-2zM9 17H7v-7h2v7zm4 0h-2V7h2v10zm4 0h-2v-4h2v4z\"/>\n",
              "    </g>\n",
              "</svg>\n",
              "  </button>\n",
              "\n",
              "<style>\n",
              "  .colab-df-quickchart {\n",
              "      --bg-color: #E8F0FE;\n",
              "      --fill-color: #1967D2;\n",
              "      --hover-bg-color: #E2EBFA;\n",
              "      --hover-fill-color: #174EA6;\n",
              "      --disabled-fill-color: #AAA;\n",
              "      --disabled-bg-color: #DDD;\n",
              "  }\n",
              "\n",
              "  [theme=dark] .colab-df-quickchart {\n",
              "      --bg-color: #3B4455;\n",
              "      --fill-color: #D2E3FC;\n",
              "      --hover-bg-color: #434B5C;\n",
              "      --hover-fill-color: #FFFFFF;\n",
              "      --disabled-bg-color: #3B4455;\n",
              "      --disabled-fill-color: #666;\n",
              "  }\n",
              "\n",
              "  .colab-df-quickchart {\n",
              "    background-color: var(--bg-color);\n",
              "    border: none;\n",
              "    border-radius: 50%;\n",
              "    cursor: pointer;\n",
              "    display: none;\n",
              "    fill: var(--fill-color);\n",
              "    height: 32px;\n",
              "    padding: 0;\n",
              "    width: 32px;\n",
              "  }\n",
              "\n",
              "  .colab-df-quickchart:hover {\n",
              "    background-color: var(--hover-bg-color);\n",
              "    box-shadow: 0 1px 2px rgba(60, 64, 67, 0.3), 0 1px 3px 1px rgba(60, 64, 67, 0.15);\n",
              "    fill: var(--button-hover-fill-color);\n",
              "  }\n",
              "\n",
              "  .colab-df-quickchart-complete:disabled,\n",
              "  .colab-df-quickchart-complete:disabled:hover {\n",
              "    background-color: var(--disabled-bg-color);\n",
              "    fill: var(--disabled-fill-color);\n",
              "    box-shadow: none;\n",
              "  }\n",
              "\n",
              "  .colab-df-spinner {\n",
              "    border: 2px solid var(--fill-color);\n",
              "    border-color: transparent;\n",
              "    border-bottom-color: var(--fill-color);\n",
              "    animation:\n",
              "      spin 1s steps(1) infinite;\n",
              "  }\n",
              "\n",
              "  @keyframes spin {\n",
              "    0% {\n",
              "      border-color: transparent;\n",
              "      border-bottom-color: var(--fill-color);\n",
              "      border-left-color: var(--fill-color);\n",
              "    }\n",
              "    20% {\n",
              "      border-color: transparent;\n",
              "      border-left-color: var(--fill-color);\n",
              "      border-top-color: var(--fill-color);\n",
              "    }\n",
              "    30% {\n",
              "      border-color: transparent;\n",
              "      border-left-color: var(--fill-color);\n",
              "      border-top-color: var(--fill-color);\n",
              "      border-right-color: var(--fill-color);\n",
              "    }\n",
              "    40% {\n",
              "      border-color: transparent;\n",
              "      border-right-color: var(--fill-color);\n",
              "      border-top-color: var(--fill-color);\n",
              "    }\n",
              "    60% {\n",
              "      border-color: transparent;\n",
              "      border-right-color: var(--fill-color);\n",
              "    }\n",
              "    80% {\n",
              "      border-color: transparent;\n",
              "      border-right-color: var(--fill-color);\n",
              "      border-bottom-color: var(--fill-color);\n",
              "    }\n",
              "    90% {\n",
              "      border-color: transparent;\n",
              "      border-bottom-color: var(--fill-color);\n",
              "    }\n",
              "  }\n",
              "</style>\n",
              "\n",
              "  <script>\n",
              "    async function quickchart(key) {\n",
              "      const quickchartButtonEl =\n",
              "        document.querySelector('#' + key + ' button');\n",
              "      quickchartButtonEl.disabled = true;  // To prevent multiple clicks.\n",
              "      quickchartButtonEl.classList.add('colab-df-spinner');\n",
              "      try {\n",
              "        const charts = await google.colab.kernel.invokeFunction(\n",
              "            'suggestCharts', [key], {});\n",
              "      } catch (error) {\n",
              "        console.error('Error during call to suggestCharts:', error);\n",
              "      }\n",
              "      quickchartButtonEl.classList.remove('colab-df-spinner');\n",
              "      quickchartButtonEl.classList.add('colab-df-quickchart-complete');\n",
              "    }\n",
              "    (() => {\n",
              "      let quickchartButtonEl =\n",
              "        document.querySelector('#df-b94b1abe-03e4-4a78-82e8-8050eafd9e1d button');\n",
              "      quickchartButtonEl.style.display =\n",
              "        google.colab.kernel.accessAllowed ? 'block' : 'none';\n",
              "    })();\n",
              "  </script>\n",
              "</div>\n",
              "    </div>\n",
              "  </div>\n"
            ]
          },
          "metadata": {},
          "execution_count": 24
        }
      ],
      "source": [
        "df[\"embeddings\"] = df.apply(\n",
        "    lambda x: embedding_model.get_embeddings([x.text])[0].values, axis=1\n",
        ")\n",
        "df"
      ]
    },
    {
      "cell_type": "markdown",
      "metadata": {
        "id": "69ebe1a6514d"
      },
      "source": [
        "#### コサイン類似度を使用したテキスト例の類似性の比較"
      ]
    },
    {
      "cell_type": "markdown",
      "metadata": {
        "id": "04d0f13acedb"
      },
      "source": [
        "テキストを埋め込みに変換することで、類似性スコアを計算できます。 類似性スコアを計算するには多くの方法がありますが、一般的な手法の 1 つは [コサイン類似度](https://en.wikipedia.org/wiki/Cosine_similarity) を使用することです。\n",
        "\n",
        "上の例では、`text` 列の文のうち 2 つは _movie_ を楽しむことに関連しており、他の 2 つは _coding_ を楽しむことに関連しています。 意味的に関連する文間でペアごとの比較を行う場合、コサイン類似性スコアはより高く (1.0 に近く)、意味的に異なる文間のスコアはより低くなければなりません。\n",
        "\n",
        "以下の DataFrame 出力は、埋め込み間のコサイン類似性スコアの結果を示しています。"
      ]
    },
    {
      "cell_type": "code",
      "execution_count": 25,
      "metadata": {
        "id": "dc499dae438a",
        "colab": {
          "base_uri": "https://localhost:8080/",
          "height": 342
        },
        "executionInfo": {
          "status": "ok",
          "timestamp": 1709078866604,
          "user_tz": -540,
          "elapsed": 456,
          "user": {
            "displayName": "",
            "userId": ""
          }
        },
        "outputId": "88ecb226-cb96-4e8e-b7d7-7d0ad3c7836a"
      },
      "outputs": [
        {
          "output_type": "execute_result",
          "data": {
            "text/plain": [
              "                                       昨夜の映画はとても楽しかったです  \\\n",
              "昨夜の映画はとても楽しかったです                               1.000000   \n",
              "昨日は素晴らしい映画のシーンがたくさんありました                       0.875014   \n",
              "数日前、Python スクリプトを書くのはとても楽しかったです。               0.733284   \n",
              "私の .pyのスクリプトが最終的にエラーなく実行されたときの大きな安堵感。          0.657282   \n",
              "おおロミオ、ロミオ、どうしてあなたはロミオなの？                       0.623104   \n",
              "ああ、、えいがってなんていいものなんだ・・・                         0.675758   \n",
              "\n",
              "                                       昨日は素晴らしい映画のシーンがたくさんありました  \\\n",
              "昨夜の映画はとても楽しかったです                                       0.875014   \n",
              "昨日は素晴らしい映画のシーンがたくさんありました                               1.000000   \n",
              "数日前、Python スクリプトを書くのはとても楽しかったです。                       0.731127   \n",
              "私の .pyのスクリプトが最終的にエラーなく実行されたときの大きな安堵感。                  0.680049   \n",
              "おおロミオ、ロミオ、どうしてあなたはロミオなの？                               0.648612   \n",
              "ああ、、えいがってなんていいものなんだ・・・                                 0.678323   \n",
              "\n",
              "                                       数日前、Python スクリプトを書くのはとても楽しかったです。  \\\n",
              "昨夜の映画はとても楽しかったです                                               0.733284   \n",
              "昨日は素晴らしい映画のシーンがたくさんありました                                       0.731127   \n",
              "数日前、Python スクリプトを書くのはとても楽しかったです。                               1.000000   \n",
              "私の .pyのスクリプトが最終的にエラーなく実行されたときの大きな安堵感。                          0.840750   \n",
              "おおロミオ、ロミオ、どうしてあなたはロミオなの？                                       0.613628   \n",
              "ああ、、えいがってなんていいものなんだ・・・                                         0.627316   \n",
              "\n",
              "                                       私の .pyのスクリプトが最終的にエラーなく実行されたときの大きな安堵感。  \\\n",
              "昨夜の映画はとても楽しかったです                                                    0.657282   \n",
              "昨日は素晴らしい映画のシーンがたくさんありました                                            0.680049   \n",
              "数日前、Python スクリプトを書くのはとても楽しかったです。                                    0.840750   \n",
              "私の .pyのスクリプトが最終的にエラーなく実行されたときの大きな安堵感。                               1.000000   \n",
              "おおロミオ、ロミオ、どうしてあなたはロミオなの？                                            0.609428   \n",
              "ああ、、えいがってなんていいものなんだ・・・                                              0.634715   \n",
              "\n",
              "                                       おおロミオ、ロミオ、どうしてあなたはロミオなの？  \\\n",
              "昨夜の映画はとても楽しかったです                                       0.623104   \n",
              "昨日は素晴らしい映画のシーンがたくさんありました                               0.648612   \n",
              "数日前、Python スクリプトを書くのはとても楽しかったです。                       0.613628   \n",
              "私の .pyのスクリプトが最終的にエラーなく実行されたときの大きな安堵感。                  0.609428   \n",
              "おおロミオ、ロミオ、どうしてあなたはロミオなの？                               1.000000   \n",
              "ああ、、えいがってなんていいものなんだ・・・                                 0.656261   \n",
              "\n",
              "                                       ああ、、えいがってなんていいものなんだ・・・  \n",
              "昨夜の映画はとても楽しかったです                                     0.675758  \n",
              "昨日は素晴らしい映画のシーンがたくさんありました                             0.678323  \n",
              "数日前、Python スクリプトを書くのはとても楽しかったです。                     0.627316  \n",
              "私の .pyのスクリプトが最終的にエラーなく実行されたときの大きな安堵感。                0.634715  \n",
              "おおロミオ、ロミオ、どうしてあなたはロミオなの？                             0.656261  \n",
              "ああ、、えいがってなんていいものなんだ・・・                               1.000000  "
            ],
            "text/html": [
              "\n",
              "  <div id=\"df-cd4dd2eb-03b2-41b4-ac1e-38d101c256b0\" class=\"colab-df-container\">\n",
              "    <div>\n",
              "<style scoped>\n",
              "    .dataframe tbody tr th:only-of-type {\n",
              "        vertical-align: middle;\n",
              "    }\n",
              "\n",
              "    .dataframe tbody tr th {\n",
              "        vertical-align: top;\n",
              "    }\n",
              "\n",
              "    .dataframe thead th {\n",
              "        text-align: right;\n",
              "    }\n",
              "</style>\n",
              "<table border=\"1\" class=\"dataframe\">\n",
              "  <thead>\n",
              "    <tr style=\"text-align: right;\">\n",
              "      <th></th>\n",
              "      <th>昨夜の映画はとても楽しかったです</th>\n",
              "      <th>昨日は素晴らしい映画のシーンがたくさんありました</th>\n",
              "      <th>数日前、Python スクリプトを書くのはとても楽しかったです。</th>\n",
              "      <th>私の .pyのスクリプトが最終的にエラーなく実行されたときの大きな安堵感。</th>\n",
              "      <th>おおロミオ、ロミオ、どうしてあなたはロミオなの？</th>\n",
              "      <th>ああ、、えいがってなんていいものなんだ・・・</th>\n",
              "    </tr>\n",
              "  </thead>\n",
              "  <tbody>\n",
              "    <tr>\n",
              "      <th>昨夜の映画はとても楽しかったです</th>\n",
              "      <td>1.000000</td>\n",
              "      <td>0.875014</td>\n",
              "      <td>0.733284</td>\n",
              "      <td>0.657282</td>\n",
              "      <td>0.623104</td>\n",
              "      <td>0.675758</td>\n",
              "    </tr>\n",
              "    <tr>\n",
              "      <th>昨日は素晴らしい映画のシーンがたくさんありました</th>\n",
              "      <td>0.875014</td>\n",
              "      <td>1.000000</td>\n",
              "      <td>0.731127</td>\n",
              "      <td>0.680049</td>\n",
              "      <td>0.648612</td>\n",
              "      <td>0.678323</td>\n",
              "    </tr>\n",
              "    <tr>\n",
              "      <th>数日前、Python スクリプトを書くのはとても楽しかったです。</th>\n",
              "      <td>0.733284</td>\n",
              "      <td>0.731127</td>\n",
              "      <td>1.000000</td>\n",
              "      <td>0.840750</td>\n",
              "      <td>0.613628</td>\n",
              "      <td>0.627316</td>\n",
              "    </tr>\n",
              "    <tr>\n",
              "      <th>私の .pyのスクリプトが最終的にエラーなく実行されたときの大きな安堵感。</th>\n",
              "      <td>0.657282</td>\n",
              "      <td>0.680049</td>\n",
              "      <td>0.840750</td>\n",
              "      <td>1.000000</td>\n",
              "      <td>0.609428</td>\n",
              "      <td>0.634715</td>\n",
              "    </tr>\n",
              "    <tr>\n",
              "      <th>おおロミオ、ロミオ、どうしてあなたはロミオなの？</th>\n",
              "      <td>0.623104</td>\n",
              "      <td>0.648612</td>\n",
              "      <td>0.613628</td>\n",
              "      <td>0.609428</td>\n",
              "      <td>1.000000</td>\n",
              "      <td>0.656261</td>\n",
              "    </tr>\n",
              "    <tr>\n",
              "      <th>ああ、、えいがってなんていいものなんだ・・・</th>\n",
              "      <td>0.675758</td>\n",
              "      <td>0.678323</td>\n",
              "      <td>0.627316</td>\n",
              "      <td>0.634715</td>\n",
              "      <td>0.656261</td>\n",
              "      <td>1.000000</td>\n",
              "    </tr>\n",
              "  </tbody>\n",
              "</table>\n",
              "</div>\n",
              "    <div class=\"colab-df-buttons\">\n",
              "\n",
              "  <div class=\"colab-df-container\">\n",
              "    <button class=\"colab-df-convert\" onclick=\"convertToInteractive('df-cd4dd2eb-03b2-41b4-ac1e-38d101c256b0')\"\n",
              "            title=\"Convert this dataframe to an interactive table.\"\n",
              "            style=\"display:none;\">\n",
              "\n",
              "  <svg xmlns=\"http://www.w3.org/2000/svg\" height=\"24px\" viewBox=\"0 -960 960 960\">\n",
              "    <path d=\"M120-120v-720h720v720H120Zm60-500h600v-160H180v160Zm220 220h160v-160H400v160Zm0 220h160v-160H400v160ZM180-400h160v-160H180v160Zm440 0h160v-160H620v160ZM180-180h160v-160H180v160Zm440 0h160v-160H620v160Z\"/>\n",
              "  </svg>\n",
              "    </button>\n",
              "\n",
              "  <style>\n",
              "    .colab-df-container {\n",
              "      display:flex;\n",
              "      gap: 12px;\n",
              "    }\n",
              "\n",
              "    .colab-df-convert {\n",
              "      background-color: #E8F0FE;\n",
              "      border: none;\n",
              "      border-radius: 50%;\n",
              "      cursor: pointer;\n",
              "      display: none;\n",
              "      fill: #1967D2;\n",
              "      height: 32px;\n",
              "      padding: 0 0 0 0;\n",
              "      width: 32px;\n",
              "    }\n",
              "\n",
              "    .colab-df-convert:hover {\n",
              "      background-color: #E2EBFA;\n",
              "      box-shadow: 0px 1px 2px rgba(60, 64, 67, 0.3), 0px 1px 3px 1px rgba(60, 64, 67, 0.15);\n",
              "      fill: #174EA6;\n",
              "    }\n",
              "\n",
              "    .colab-df-buttons div {\n",
              "      margin-bottom: 4px;\n",
              "    }\n",
              "\n",
              "    [theme=dark] .colab-df-convert {\n",
              "      background-color: #3B4455;\n",
              "      fill: #D2E3FC;\n",
              "    }\n",
              "\n",
              "    [theme=dark] .colab-df-convert:hover {\n",
              "      background-color: #434B5C;\n",
              "      box-shadow: 0px 1px 3px 1px rgba(0, 0, 0, 0.15);\n",
              "      filter: drop-shadow(0px 1px 2px rgba(0, 0, 0, 0.3));\n",
              "      fill: #FFFFFF;\n",
              "    }\n",
              "  </style>\n",
              "\n",
              "    <script>\n",
              "      const buttonEl =\n",
              "        document.querySelector('#df-cd4dd2eb-03b2-41b4-ac1e-38d101c256b0 button.colab-df-convert');\n",
              "      buttonEl.style.display =\n",
              "        google.colab.kernel.accessAllowed ? 'block' : 'none';\n",
              "\n",
              "      async function convertToInteractive(key) {\n",
              "        const element = document.querySelector('#df-cd4dd2eb-03b2-41b4-ac1e-38d101c256b0');\n",
              "        const dataTable =\n",
              "          await google.colab.kernel.invokeFunction('convertToInteractive',\n",
              "                                                    [key], {});\n",
              "        if (!dataTable) return;\n",
              "\n",
              "        const docLinkHtml = 'Like what you see? Visit the ' +\n",
              "          '<a target=\"_blank\" href=https://colab.research.google.com/notebooks/data_table.ipynb>data table notebook</a>'\n",
              "          + ' to learn more about interactive tables.';\n",
              "        element.innerHTML = '';\n",
              "        dataTable['output_type'] = 'display_data';\n",
              "        await google.colab.output.renderOutput(dataTable, element);\n",
              "        const docLink = document.createElement('div');\n",
              "        docLink.innerHTML = docLinkHtml;\n",
              "        element.appendChild(docLink);\n",
              "      }\n",
              "    </script>\n",
              "  </div>\n",
              "\n",
              "\n",
              "<div id=\"df-1c860d16-ecbc-4608-9cdc-a206221c5cd3\">\n",
              "  <button class=\"colab-df-quickchart\" onclick=\"quickchart('df-1c860d16-ecbc-4608-9cdc-a206221c5cd3')\"\n",
              "            title=\"Suggest charts\"\n",
              "            style=\"display:none;\">\n",
              "\n",
              "<svg xmlns=\"http://www.w3.org/2000/svg\" height=\"24px\"viewBox=\"0 0 24 24\"\n",
              "     width=\"24px\">\n",
              "    <g>\n",
              "        <path d=\"M19 3H5c-1.1 0-2 .9-2 2v14c0 1.1.9 2 2 2h14c1.1 0 2-.9 2-2V5c0-1.1-.9-2-2-2zM9 17H7v-7h2v7zm4 0h-2V7h2v10zm4 0h-2v-4h2v4z\"/>\n",
              "    </g>\n",
              "</svg>\n",
              "  </button>\n",
              "\n",
              "<style>\n",
              "  .colab-df-quickchart {\n",
              "      --bg-color: #E8F0FE;\n",
              "      --fill-color: #1967D2;\n",
              "      --hover-bg-color: #E2EBFA;\n",
              "      --hover-fill-color: #174EA6;\n",
              "      --disabled-fill-color: #AAA;\n",
              "      --disabled-bg-color: #DDD;\n",
              "  }\n",
              "\n",
              "  [theme=dark] .colab-df-quickchart {\n",
              "      --bg-color: #3B4455;\n",
              "      --fill-color: #D2E3FC;\n",
              "      --hover-bg-color: #434B5C;\n",
              "      --hover-fill-color: #FFFFFF;\n",
              "      --disabled-bg-color: #3B4455;\n",
              "      --disabled-fill-color: #666;\n",
              "  }\n",
              "\n",
              "  .colab-df-quickchart {\n",
              "    background-color: var(--bg-color);\n",
              "    border: none;\n",
              "    border-radius: 50%;\n",
              "    cursor: pointer;\n",
              "    display: none;\n",
              "    fill: var(--fill-color);\n",
              "    height: 32px;\n",
              "    padding: 0;\n",
              "    width: 32px;\n",
              "  }\n",
              "\n",
              "  .colab-df-quickchart:hover {\n",
              "    background-color: var(--hover-bg-color);\n",
              "    box-shadow: 0 1px 2px rgba(60, 64, 67, 0.3), 0 1px 3px 1px rgba(60, 64, 67, 0.15);\n",
              "    fill: var(--button-hover-fill-color);\n",
              "  }\n",
              "\n",
              "  .colab-df-quickchart-complete:disabled,\n",
              "  .colab-df-quickchart-complete:disabled:hover {\n",
              "    background-color: var(--disabled-bg-color);\n",
              "    fill: var(--disabled-fill-color);\n",
              "    box-shadow: none;\n",
              "  }\n",
              "\n",
              "  .colab-df-spinner {\n",
              "    border: 2px solid var(--fill-color);\n",
              "    border-color: transparent;\n",
              "    border-bottom-color: var(--fill-color);\n",
              "    animation:\n",
              "      spin 1s steps(1) infinite;\n",
              "  }\n",
              "\n",
              "  @keyframes spin {\n",
              "    0% {\n",
              "      border-color: transparent;\n",
              "      border-bottom-color: var(--fill-color);\n",
              "      border-left-color: var(--fill-color);\n",
              "    }\n",
              "    20% {\n",
              "      border-color: transparent;\n",
              "      border-left-color: var(--fill-color);\n",
              "      border-top-color: var(--fill-color);\n",
              "    }\n",
              "    30% {\n",
              "      border-color: transparent;\n",
              "      border-left-color: var(--fill-color);\n",
              "      border-top-color: var(--fill-color);\n",
              "      border-right-color: var(--fill-color);\n",
              "    }\n",
              "    40% {\n",
              "      border-color: transparent;\n",
              "      border-right-color: var(--fill-color);\n",
              "      border-top-color: var(--fill-color);\n",
              "    }\n",
              "    60% {\n",
              "      border-color: transparent;\n",
              "      border-right-color: var(--fill-color);\n",
              "    }\n",
              "    80% {\n",
              "      border-color: transparent;\n",
              "      border-right-color: var(--fill-color);\n",
              "      border-bottom-color: var(--fill-color);\n",
              "    }\n",
              "    90% {\n",
              "      border-color: transparent;\n",
              "      border-bottom-color: var(--fill-color);\n",
              "    }\n",
              "  }\n",
              "</style>\n",
              "\n",
              "  <script>\n",
              "    async function quickchart(key) {\n",
              "      const quickchartButtonEl =\n",
              "        document.querySelector('#' + key + ' button');\n",
              "      quickchartButtonEl.disabled = true;  // To prevent multiple clicks.\n",
              "      quickchartButtonEl.classList.add('colab-df-spinner');\n",
              "      try {\n",
              "        const charts = await google.colab.kernel.invokeFunction(\n",
              "            'suggestCharts', [key], {});\n",
              "      } catch (error) {\n",
              "        console.error('Error during call to suggestCharts:', error);\n",
              "      }\n",
              "      quickchartButtonEl.classList.remove('colab-df-spinner');\n",
              "      quickchartButtonEl.classList.add('colab-df-quickchart-complete');\n",
              "    }\n",
              "    (() => {\n",
              "      let quickchartButtonEl =\n",
              "        document.querySelector('#df-1c860d16-ecbc-4608-9cdc-a206221c5cd3 button');\n",
              "      quickchartButtonEl.style.display =\n",
              "        google.colab.kernel.accessAllowed ? 'block' : 'none';\n",
              "    })();\n",
              "  </script>\n",
              "</div>\n",
              "    </div>\n",
              "  </div>\n"
            ]
          },
          "metadata": {},
          "execution_count": 25
        }
      ],
      "source": [
        "cos_sim_array = cosine_similarity(list(df.embeddings.values))\n",
        "\n",
        "# display as DataFrame\n",
        "df = pd.DataFrame(cos_sim_array, index=text, columns=text)\n",
        "df"
      ]
    },
    {
      "cell_type": "markdown",
      "metadata": {
        "id": "97a5e2e32df5"
      },
      "source": [
        "これを理解しやすくするために、ヒートマップを使用できます。 当然のことながら、テキストが最も似ているのは、テキストが同一である場合です (スコア 1.0)。 次に高いスコアは、文が意味的に類似している場合です。 スコアが最も低くなるのは、文の意味が大きく異なる場合です。"
      ]
    },
    {
      "cell_type": "code",
      "execution_count": 26,
      "metadata": {
        "id": "560ea2a11535",
        "colab": {
          "base_uri": "https://localhost:8080/",
          "height": 1000
        },
        "executionInfo": {
          "status": "ok",
          "timestamp": 1709078877811,
          "user_tz": -540,
          "elapsed": 2269,
          "user": {
            "displayName": "",
            "userId": ""
          }
        },
        "outputId": "a9ad87b1-bbbe-4920-ebbf-4cbc539b397f"
      },
      "outputs": [
        {
          "output_type": "execute_result",
          "data": {
            "text/plain": [
              "[Text(0.5, 1, '昨夜の映画はとても楽しかったです'),\n",
              " Text(1.5, 1, '昨日は素晴らしい映画のシーンがたくさんありました'),\n",
              " Text(2.5, 1, '数日前、Python スクリプトを書くのはとても楽しかったです。'),\n",
              " Text(3.5, 1, '私の .pyのスクリプトが最終的にエラーなく実行されたときの大きな安堵感。'),\n",
              " Text(4.5, 1, 'おおロミオ、ロミオ、どうしてあなたはロミオなの？'),\n",
              " Text(5.5, 1, 'ああ、、えいがってなんていいものなんだ・・・')]"
            ]
          },
          "metadata": {},
          "execution_count": 26
        },
        {
          "output_type": "display_data",
          "data": {
            "text/plain": [
              "<Figure size 640x480 with 2 Axes>"
            ],
            "image/png": "[encoded data removed]"
          },
          "metadata": {}
        }
      ],
      "source": [
        "ax = sns.heatmap(df, annot=True, cmap=\"crest\")\n",
        "ax.xaxis.tick_top()\n",
        "ax.set_xticklabels(text, rotation=90)"
      ]
    },
    {
      "cell_type": "markdown",
      "metadata": {
        "id": "5B1PlCAr3GQi"
      },
      "source": [
        "## Code generation with code-bison@001"
      ]
    },
    {
      "cell_type": "markdown",
      "metadata": {
        "id": "wzoNuCqd3pbn"
      },
      "source": [
        "このノートブックで使用する PaLM API のコード生成モデル (Codey) は code-bison@001 です。 自然言語の指示に従って必要なコードを生成するように微調整されており、次のようなさまざまなコーディング タスクに適しています。\n",
        "\n",
        "- 書き込み機能\n",
        "- ライティングクラス\n",
        "- ウェブページ\n",
        "- 単体テスト\n",
        "- ドキュメント文字列\n",
        "- コード変換、その他多くの使用例。\n",
        "\n",
        "現在、次の言語をサポートしています。\n",
        "- C++\n",
        "- C#\n",
        "- Go\n",
        "- GoogleSQL\n",
        "- Java\n",
        "- JavaScript\n",
        "- Kotlin\n",
        "- PHP\n",
        "- Python\n",
        "- Ruby\n",
        "- Rust\n",
        "- Scala\n",
        "- Swift\n",
        "- TypeScript\n",
        "\n",
        "\n",
        "詳細については、[こちら](https://cloud.google.com/vertex-ai/docs/generative-ai/code/code-models-overview) をご覧ください。"
      ]
    },
    {
      "cell_type": "markdown",
      "metadata": {
        "id": "H6AzUJLt-ihw"
      },
      "source": [
        "### Load model"
      ]
    },
    {
      "cell_type": "code",
      "execution_count": 27,
      "metadata": {
        "id": "GqGueQgG3pAA",
        "executionInfo": {
          "status": "ok",
          "timestamp": 1709078883500,
          "user_tz": -540,
          "elapsed": 426,
          "user": {
            "displayName": "",
            "userId": ""
          }
        }
      },
      "outputs": [],
      "source": [
        "code_generation_model = CodeGenerationModel.from_pretrained(\"code-bison@001\")"
      ]
    },
    {
      "cell_type": "markdown",
      "metadata": {
        "id": "qDzu2A0k_YYL"
      },
      "source": [
        "### `code-bison@001` のモデルパラメータ\n",
        "\n",
        "`code-bison@001` の次のパラメーターを使用して、プロンプトに応じて PaLM API コード生成がどのように動作するかをカスタマイズできます。\n",
        "\n",
        "  - `prefix`: 意味のあるプログラミング コードの一部、または生成されるコードを説明する自然言語プロンプトの始まりを表します。\n",
        "  - `temperature`: 高いほど、より「創造的な」コード応答を意味します。 範囲: (0.0 ～ 1.0、デフォルトは 0)。\n",
        "  - `max_output_tokens`: 出力内のトークンの最大数を設定します。 範囲: (1 ～ 2048、デフォルトは 2048)"
      ]
    },
    {
      "cell_type": "markdown",
      "metadata": {
        "id": "WIiZZHJAC0jC"
      },
      "source": [
        "### Hello Codey"
      ]
    },
    {
      "cell_type": "code",
      "execution_count": 28,
      "metadata": {
        "id": "oiywwL1T5grZ",
        "colab": {
          "base_uri": "https://localhost:8080/"
        },
        "executionInfo": {
          "status": "ok",
          "timestamp": 1709078890820,
          "user_tz": -540,
          "elapsed": 2452,
          "user": {
            "displayName": "",
            "userId": ""
          }
        },
        "outputId": "088c0753-84d5-4ce7-f206-8e5fc1983292"
      },
      "outputs": [
        {
          "output_type": "stream",
          "name": "stdout",
          "text": [
            "```python\n",
            "def binary_search(list, target):\n",
            "    # リストの中央値を取得する\n",
            "    mid = len(list) // 2\n",
            "\n",
            "    # 中央値が目的の値と等しい場合、その値を返す\n",
            "    if list[mid] == target:\n",
            "        return list[mid]\n",
            "\n",
            "    # 中央値が目的の値よりも小さい場合、左半分のリストに対して二分検索を繰り返す\n",
            "    if list[mid] < target:\n",
            "        return binary_search(list[:mid], target)\n",
            "\n",
            "    # 中央値が目的の値よりも大きい場合、右半分のリストに対して二分検索を繰り返す\n",
            "    if list[mid] > target:\n",
            "        return binary_search(list[mid + 1:], target)\n",
            "```\n"
          ]
        }
      ],
      "source": [
        "prefix = \"二分検索を行うための Python 関数を作成してください\"\n",
        "\n",
        "response = code_generation_model.predict(prefix=prefix)\n",
        "\n",
        "print(response.text)"
      ]
    },
    {
      "cell_type": "markdown",
      "metadata": {
        "id": "Dai1FtyDDUjX"
      },
      "source": [
        "### Try out your own prompt"
      ]
    },
    {
      "cell_type": "markdown",
      "metadata": {
        "id": "YukcUkJRDZvI"
      },
      "source": [
        "いくつかの例：\n",
        "* テキスト ファイルから IP アドレスを抽出する Go プログラムを作成します\n",
        "* アドレスからピンコードを抽出できる Java プログラムを作成する\n",
        "* 文字列からアルファベット以外の文字をすべて削除し、utf-8 にエンコードする標準 SQL 関数を作成します。"
      ]
    },
    {
      "cell_type": "code",
      "execution_count": 29,
      "metadata": {
        "id": "CvKHdTHy6RIi",
        "colab": {
          "base_uri": "https://localhost:8080/"
        },
        "executionInfo": {
          "status": "ok",
          "timestamp": 1709078910522,
          "user_tz": -540,
          "elapsed": 4106,
          "user": {
            "displayName": "",
            "userId": ""
          }
        },
        "outputId": "32e75e0f-ae5d-46c9-bc16-397b18bc98ec"
      },
      "outputs": [
        {
          "output_type": "stream",
          "name": "stdout",
          "text": [
            "```python\n",
            "import unittest\n",
            "import numpy as np\n",
            "\n",
            "def calculate_cosine_similarity(vector1, vector2):\n",
            "\n",
            "  \"\"\"Calculates the cosine similarity between two vectors.\n",
            "\n",
            "  Args:\n",
            "    vector1: A numpy array of numbers.\n",
            "    vector2: A numpy array of numbers.\n",
            "\n",
            "  Returns:\n",
            "    The cosine similarity between the two vectors.\n",
            "  \"\"\"\n",
            "\n",
            "  # Calculate the dot product of the two vectors.\n",
            "  dot_product = np.dot(vector1, vector2)\n",
            "\n",
            "  # Calculate the magnitude of the two vectors.\n",
            "  magnitude1 = np.linalg.norm(vector1)\n",
            "  magnitude2 = np.linalg.norm(vector2)\n",
            "\n",
            "  # Calculate the cosine similarity.\n",
            "  cosine_similarity = dot_product / (magnitude1 * magnitude2)\n",
            "\n",
            "  return cosine_similarity\n",
            "\n",
            "\n",
            "class TestCosineSimilarity(unittest.TestCase):\n",
            "\n",
            "  def test_cosine_similarity_positive(self):\n",
            "    \"\"\"Tests that the cosine similarity is calculated correctly for two\n",
            "    vectors that are positively correlated.\n",
            "    \"\"\"\n",
            "\n",
            "    vector1 = np.array([1, 2, 3])\n",
            "    vector2 = np.array([4, 5, 6])\n",
            "\n",
            "    expected_cosine_similarity = 0.816496580927726\n",
            "\n",
            "    actual_cosine_similarity = calculate_cosine_similarity(vector1, vector2)\n",
            "\n",
            "    self.assertEqual(expected_cosine_similarity, actual_cosine_similarity)\n",
            "\n",
            "\n",
            "  def test_cosine_similarity_negative(self):\n",
            "    \"\"\"Tests that the cosine similarity is calculated correctly for two\n",
            "    vectors that are negatively correlated.\n",
            "    \"\"\"\n",
            "\n",
            "    vector1 = np.array([1, 2, 3])\n",
            "    vector2 = np.array([-4, -5, -6])\n",
            "\n",
            "    expected_cosine_similarity = -0.816496580927726\n",
            "\n",
            "    actual_cosine_similarity = calculate_cosine_similarity(vector1, vector2)\n",
            "\n",
            "    self.assertEqual(expected_cosine_similarity, actual_cosine_similarity)\n",
            "\n",
            "\n",
            "  def test_cosine_similarity_uncorrelated(self):\n",
            "    \"\"\"Tests that the cosine similarity is calculated correctly for two\n",
            "    vectors that are uncorrelated.\n",
            "    \"\"\"\n",
            "\n",
            "    vector1 = np.array([1, 2, 3])\n",
            "    vector2 = np.array([7, 8, 9])\n",
            "\n",
            "    expected_cosine_similarity = 0.0\n",
            "\n",
            "    actual_cosine_similarity = calculate_cosine_similarity(vector1, vector2)\n",
            "\n",
            "    self.assertEqual(expected_cosine_similarity, actual_cosine_similarity)\n",
            "```\n"
          ]
        }
      ],
      "source": [
        "prefix = \"\"\"「calculate_cosine_similairty」という名前の Python 関数と、\\\n",
        "             2 つの引数「vector1」と「vector2」を取る 3 つの単体テストを作成します。\\\n",
        "             次に、numpy dot 関数を使用して 2 つのベクトルの内積を計算します。 \\n\n",
        "          \"\"\"\n",
        "\n",
        "response = code_generation_model.predict(prefix=prefix, max_output_tokens=1024)\n",
        "\n",
        "print(response.text)"
      ]
    },
    {
      "cell_type": "markdown",
      "metadata": {
        "id": "iZ0AEuFAEB1N"
      },
      "source": [
        "### Prompt templates"
      ]
    },
    {
      "cell_type": "markdown",
      "metadata": {
        "id": "LpFTrfLnFHBy"
      },
      "source": [
        "プロンプト テンプレートは、再利用できるプロンプトを構成する適切な方法を見つけた場合に役立ちます。 これは、自由形式プロンプトの自由形式を制限するのにも役立ちます。 プロンプト テンプレートを実装するにはさまざまな方法がありますが、以下は f-strings を使用した一例にすぎません。 このようにして、コードの期待される機能に従ってプロンプトを構成できます。"
      ]
    },
    {
      "cell_type": "code",
      "execution_count": null,
      "metadata": {
        "id": "gznmqXU067tj",
        "outputId": "6e9831e7-abcb-423e-fe2f-79a2530cc420"
      },
      "outputs": [
        {
          "name": "stdout",
          "output_type": "stream",
          "text": [
            "```c++\n",
            "#include <iostream>\n",
            "#include <string>\n",
            "#include <vector>\n",
            "#include <json/json.h>\n",
            "\n",
            "using namespace std;\n",
            "\n",
            "// 関数名: extract_names\n",
            "// 入力: json オブジェクト\n",
            "// 出力: 大文字で始まる名前のリスト\n",
            "vector<string> extract_names(const Json::Value& json) {\n",
            "  // 名前のリスト\n",
            "  vector<string> names;\n",
            "\n",
            "  // json オブジェクトを走査し、各名前を names リストに追加する\n",
            "  for (const auto& name : json.getMemberNames()) {\n",
            "    if (name[0] >= 'A' && name[0] <= 'Z') {\n",
            "      names.push_back(name);\n",
            "    }\n",
            "  }\n",
            "\n",
            "  // 重複を削除する\n",
            "  names.erase(unique(names.begin(), names.end()), names.end());\n",
            "\n",
            "  // 結果を返す\n",
            "  return names;\n",
            "}\n",
            "\n",
            "int main() {\n",
            "  // json オブジェクトを作成\n",
            "  Json::Value json = {\n",
            "    {\"name\", \"John Doe\"},\n",
            "    {\"age\", 30},\n",
            "    {\"address\", \"123 Main Street\"},\n",
            "  };\n",
            "\n",
            "  // 名前のリストを取得\n",
            "  vector<string> names = extract_names(json);\n",
            "\n",
            "  // 名前のリストを表示\n",
            "  for (const auto& name : names) {\n",
            "    cout << name << endl;\n",
            "  }\n",
            "\n",
            "  return 0;\n",
            "}\n",
            "```\n"
          ]
        }
      ],
      "source": [
        "language = \"C++ function\"\n",
        "file_format = \"json\"\n",
        "extract_info = \"names\"\n",
        "requirments = \"\"\"\n",
        "                - 名前は大文字で始める必要があります。\n",
        "                - 最終リストには重複する名前があってはなりません。\n",
        "              \"\"\"\n",
        "\n",
        "prefix = f\"\"\"\n",
        "            {file_format} を解析し、次の要件を持つ {extract_info} を抽出するための {language} を作成します: {requirments}。\n",
        "              \"\"\"\n",
        "\n",
        "response = code_generation_model.predict(prefix=prefix, max_output_tokens=1024)\n",
        "\n",
        "print(response.text)"
      ]
    },
    {
      "cell_type": "markdown",
      "metadata": {
        "id": "TYmU--5p7pTb"
      },
      "source": [
        "## Code completion with `code-gecko@001`"
      ]
    },
    {
      "cell_type": "markdown",
      "metadata": {
        "id": "3afIjeslHctK"
      },
      "source": [
        "コード補完では、code-gecko 基盤モデルを使用して、記述されているコードに基づいてコードを生成し、完成させます。 `code-gecko` は、ユーザーが最近入力したコードを完成させます。\n",
        "\n",
        "コード補完のプロンプトの作成の詳細については、「コード補完のプロンプトを作成する」(https://cloud.google.com/vertex-ai/docs/generative-ai/model-reference/code-completion#:~) を参照してください。 :text=code%20completion%2C%20see-,Create%20prompts%20for%20code%20completion,-.)"
      ]
    },
    {
      "cell_type": "markdown",
      "metadata": {
        "id": "pQzLgVJtH_FD"
      },
      "source": [
        "コード補完 API には、コード生成よりもいくつかのパラメーターが追加されています。\n",
        "\n",
        "* prefix: *required* : コード モデルの場合、prefix は意味のあるプログラミング コードの一部の始まり、または生成されるコードを説明する自然言語プロンプトを表します。\n",
        "\n",
        "* suffix: *optional* : コード補完の場合、suffix は意味のあるプログラミング コードの終わりを表します。 モデルは、プレフィックスとサフィックスの間のコードを埋めようとします。\n",
        "\n",
        "* temperature: *必須* : temperatureは、トークン選択のランダム性の程度を制御します。 他のモデルも同様です。 範囲: (0.0 ～ 1.0、デフォルトは 0)\n",
        "\n",
        "* maxOutputTokens: *required* : 応答で生成できるトークンの最大数。 **範囲: (1 ～ 64、デフォルトは 64)**\n",
        "\n",
        "* stopSequences: *オプション* : 応答内でいずれかの文字列が見つかった場合にテキストの生成を停止するようにモデルに指示する文字列のリストを指定します。 文字列では大文字と小文字が区別されます。"
      ]
    },
    {
      "cell_type": "code",
      "execution_count": null,
      "metadata": {
        "id": "2hcmp5JH7x43"
      },
      "outputs": [],
      "source": [
        "code_completion_model = CodeGenerationModel.from_pretrained(\"code-gecko@001\")"
      ]
    },
    {
      "cell_type": "code",
      "execution_count": null,
      "metadata": {
        "id": "Gq-yhdnC8INm",
        "outputId": "4a022943-d835-4be3-fccf-1c40f0fbc82d"
      },
      "outputs": [
        {
          "name": "stdout",
          "output_type": "stream",
          "text": [
            "   return string_s.find(x)\n",
            "\n",
            "          def find_y_in_string(string_s, y):\n",
            "            return string_s.find(y)\n"
          ]
        }
      ],
      "source": [
        "prefix = \"\"\"\n",
        "          def find_x_in_string(string_s, x):\n",
        "         \"\"\"\n",
        "\n",
        "response = code_completion_model.predict(prefix=prefix,\n",
        "                                         max_output_tokens=64)\n",
        "\n",
        "print(response.text)"
      ]
    },
    {
      "cell_type": "code",
      "execution_count": null,
      "metadata": {
        "id": "UzA2toRG8yoN",
        "outputId": "1fb19cac-338a-4e7b-f3d9-6c39193ffa42"
      },
      "outputs": [
        {
          "name": "stdout",
          "output_type": "stream",
          "text": [
            "   assert reverse_string(\"\") == \"\"\n",
            "         def test_one_character_input_string()\n",
            "            assert reverse_string(\"a\") == \"a\"\n",
            "         def test_two_character_input_string()\n",
            "            assert reverse_string(\"ab\") == \"ba\n"
          ]
        }
      ],
      "source": [
        "prefix = \"\"\"\n",
        "         def reverse_string(s):\n",
        "            return s[::-1]\n",
        "         def test_empty_input_string()\n",
        "         \"\"\"\n",
        "\n",
        "response = code_completion_model.predict(prefix=prefix,\n",
        "                                         max_output_tokens=64)\n",
        "\n",
        "print(response.text)"
      ]
    },
    {
      "cell_type": "markdown",
      "metadata": {
        "id": "uWoXuAnn89zQ"
      },
      "source": [
        "## Code chat with `codechat-bison@001`"
      ]
    },
    {
      "cell_type": "markdown",
      "metadata": {
        "id": "v9Pfs4jWEMOV"
      },
      "source": [
        "「codechat-bison@001」モデルを使用すると、コード コンテキストから複数のターンにわたってフリーフォームの会話を行うことができます。 アプリケーションは、会話で以前に話された内容を追跡します。 そのため、コード生成のためにアプリケーションで会話を使用する予定がある場合は、複数ターンの会話のユースケース向けに微調整されている「codechat-bison@001」モデルを使用してください。"
      ]
    },
    {
      "cell_type": "code",
      "execution_count": null,
      "metadata": {
        "id": "3qmwg9ey9DvN",
        "outputId": "16ea037b-1cd5-4300-e8c8-6ea4c0c523b0"
      },
      "outputs": [
        {
          "name": "stdout",
          "output_type": "stream",
          "text": [
            "以下の関数は、2つの数値の最小値を計算します。\n",
            "\n",
            "```\n",
            "def min(x, y):\n",
            "  \"\"\"\n",
            "  2つの数値の最小値を計算します。\n",
            "\n",
            "  Args:\n",
            "    x: 最初の数値\n",
            "    y: 2番目の数値\n",
            "\n",
            "  Returns:\n",
            "    2つの数値のうち最小の数値\n",
            "  \"\"\"\n",
            "\n",
            "  if x < y:\n",
            "    return x\n",
            "  else:\n",
            "    return y\n",
            "```\n",
            "\n",
            "この関数は、2つの数値を比較して、小さい方の数値を返します。例えば、2つの数値が3と5の場合、この関数は3を返します。\n"
          ]
        }
      ],
      "source": [
        "code_chat_model = CodeChatModel.from_pretrained(\"codechat-bison@001\")\n",
        "\n",
        "code_chat = code_chat_model.start_chat()\n",
        "\n",
        "print(code_chat.send_message(\n",
        "        \"2 つの数値の最小値を計算する関数の作成を手伝ってください。\",\n",
        "    )\n",
        ")"
      ]
    },
    {
      "cell_type": "markdown",
      "metadata": {
        "id": "oVS9FtJ7Egdp"
      },
      "source": [
        "As shown below, the model should respond based on what was previously asked in the conversation:"
      ]
    },
    {
      "cell_type": "code",
      "execution_count": null,
      "metadata": {
        "id": "Xr9gKcOu9sof",
        "outputId": "3abaca69-d434-4833-c35c-ce5224c2f75c"
      },
      "outputs": [
        {
          "name": "stdout",
          "output_type": "stream",
          "text": [
            "* `def min(x, y):` は、2つの数値の最小値を計算する関数です。\n",
            "* `Args:` は、関数に渡される引数を定義します。この関数では、2つの数値を渡す必要があります。\n",
            "* `x:` は、最初の数値です。\n",
            "* `y:` は、2番目の数値です。\n",
            "* `Returns:` は、関数が返す値を定義します。この関数では、2つの数値のうち最小の数値を返します。\n",
            "* `if x < y:` は、最初の数値が2番目の数値よりも小さいかどうかを判定する条件文です。\n",
            "* `return x:` は、最初の数値が2番目の数値よりも小さい場合は、最初の数値を返します。\n",
            "* `else:` は、最初の数値が2番目の数値よりも小さくない場合に実行されるブロックです。\n",
            "* `return y:` は、最初の数値が2番目の数値よりも小さくない場合は、2番目の数値を返します。\n"
          ]
        }
      ],
      "source": [
        "print(code_chat.send_message(\n",
        "        \"コードを行ごとに箇条書きで説明してもらえますか?\",\n",
        "    )\n",
        ")"
      ]
    },
    {
      "cell_type": "markdown",
      "metadata": {
        "id": "XnjhfcIjEqcl"
      },
      "source": [
        "You can take another example and ask the model to give more general code suggestion for a specific problem that you are working on."
      ]
    },
    {
      "cell_type": "code",
      "execution_count": null,
      "metadata": {
        "id": "9_ZAiZW2-GD5",
        "outputId": "f1a23fdb-a83f-44e0-9648-01e22a0fdf37"
      },
      "outputs": [
        {
          "name": "stdout",
          "output_type": "stream",
          "text": [
            "リストを走査する最もスケーラブルな方法は、forループを使用することです。forループは、リストの要素を1つずつ順番に処理します。リストの要素が非常に多い場合は、forループは効率的ではありません。リストの要素が非常に多い場合は、リストをイテレーターとして使用することを検討してください。イテレーターは、リストの要素を1つずつ順番に処理するオブジェクトです。イテレーターは、リストの要素が非常に多い場合に効率的です。\n"
          ]
        }
      ],
      "source": [
        "code_chat = code_chat_model.start_chat()\n",
        "\n",
        "print(code_chat.send_message(\n",
        "        \"Pythonでリストを走査する最もスケーラブルな方法は何ですか?\",\n",
        "    )\n",
        ")"
      ]
    },
    {
      "cell_type": "markdown",
      "metadata": {
        "id": "fJFOmy0EE5cB"
      },
      "source": [
        "You can continue to ask follow-up questions to the origianl query."
      ]
    },
    {
      "cell_type": "code",
      "execution_count": null,
      "metadata": {
        "id": "QnxwQVUq-OW3",
        "outputId": "7eb98569-1f60-4be2-bef5-cd9a41877703"
      },
      "outputs": [
        {
          "name": "stdout",
          "output_type": "stream",
          "text": [
            "次のコードの1秒あたりの反復を測定する方法は次のとおりです。\n",
            "\n",
            "1. コードを実行する前に、システムクロックの値を取得します。\n",
            "2. コードを実行します。\n",
            "3. コードの実行が完了したら、システムクロックの値を再度取得します。\n",
            "4. 2番目のシステムクロック値から1番目のシステムクロック値を差し引きます。\n",
            "5. 結果を1秒で割ります。\n",
            "\n",
            "この方法では、コードの実行にかかる時間をミリ秒単位で測定できます。\n"
          ]
        }
      ],
      "source": [
        "print(code_chat.send_message(\n",
        "        \"次のコードの 1 秒あたりの反復を測定するにはどうすればよいですか?\",\n",
        "    )\n",
        ")"
      ]
    }
  ],
  "metadata": {
    "colab": {
      "provenance": [],
      "toc_visible": true
    },
    "environment": {
      "kernel": "python3",
      "name": "tf2-gpu.2-11.m111",
      "type": "gcloud",
      "uri": "gcr.io/deeplearning-platform-release/tf2-gpu.2-11:m111"
    },
    "kernelspec": {
      "display_name": "Python 3",
      "language": "python",
      "name": "python3"
    },
    "language_info": {
      "codemirror_mode": {
        "name": "ipython",
        "version": 3
      },
      "file_extension": ".py",
      "mimetype": "text/x-python",
      "name": "python",
      "nbconvert_exporter": "python",
      "pygments_lexer": "ipython3",
      "version": "3.10.12"
    }
  },
  "nbformat": 4,
  "nbformat_minor": 0
}